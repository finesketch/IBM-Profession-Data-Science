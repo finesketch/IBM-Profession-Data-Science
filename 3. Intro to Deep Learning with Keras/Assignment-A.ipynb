{
 "cells": [
  {
   "cell_type": "markdown",
   "metadata": {},
   "source": [
    "# Assignment - A: Build a Regression Model in Keras"
   ]
  },
  {
   "cell_type": "markdown",
   "metadata": {},
   "source": [
    "## Download and Clean Dataset"
   ]
  },
  {
   "cell_type": "markdown",
   "metadata": {},
   "source": [
    "Let's start by importing the pandas and the Numpy libraries."
   ]
  },
  {
   "cell_type": "code",
   "execution_count": 36,
   "metadata": {},
   "outputs": [],
   "source": [
    "import pandas as pd\n",
    "import numpy as np"
   ]
  },
  {
   "cell_type": "markdown",
   "metadata": {},
   "source": [
    "We will be using the same dataset provided in the course.\n",
    "\n",
    "The dataset is about the compressive strength of different samples of concrete based on the volumes of the different ingredients that were used to make them. Ingredients include:\n",
    "\n",
    "1. Cement\n",
    "2. Blast Furnace Slag\n",
    "3. Fly Ash\n",
    "4. Water\n",
    "5. Superplasticizer\n",
    "6. Coarse Aggregate\n",
    "7. Fine Aggregate"
   ]
  },
  {
   "cell_type": "markdown",
   "metadata": {},
   "source": [
    "Let's read the dataset into a *pandas* dataframe."
   ]
  },
  {
   "cell_type": "code",
   "execution_count": 37,
   "metadata": {},
   "outputs": [
    {
     "data": {
      "text/html": [
       "<div>\n",
       "<style scoped>\n",
       "    .dataframe tbody tr th:only-of-type {\n",
       "        vertical-align: middle;\n",
       "    }\n",
       "\n",
       "    .dataframe tbody tr th {\n",
       "        vertical-align: top;\n",
       "    }\n",
       "\n",
       "    .dataframe thead th {\n",
       "        text-align: right;\n",
       "    }\n",
       "</style>\n",
       "<table border=\"1\" class=\"dataframe\">\n",
       "  <thead>\n",
       "    <tr style=\"text-align: right;\">\n",
       "      <th></th>\n",
       "      <th>Cement</th>\n",
       "      <th>Blast Furnace Slag</th>\n",
       "      <th>Fly Ash</th>\n",
       "      <th>Water</th>\n",
       "      <th>Superplasticizer</th>\n",
       "      <th>Coarse Aggregate</th>\n",
       "      <th>Fine Aggregate</th>\n",
       "      <th>Age</th>\n",
       "      <th>Strength</th>\n",
       "    </tr>\n",
       "  </thead>\n",
       "  <tbody>\n",
       "    <tr>\n",
       "      <th>0</th>\n",
       "      <td>540.0</td>\n",
       "      <td>0.0</td>\n",
       "      <td>0.0</td>\n",
       "      <td>162.0</td>\n",
       "      <td>2.5</td>\n",
       "      <td>1040.0</td>\n",
       "      <td>676.0</td>\n",
       "      <td>28</td>\n",
       "      <td>79.99</td>\n",
       "    </tr>\n",
       "    <tr>\n",
       "      <th>1</th>\n",
       "      <td>540.0</td>\n",
       "      <td>0.0</td>\n",
       "      <td>0.0</td>\n",
       "      <td>162.0</td>\n",
       "      <td>2.5</td>\n",
       "      <td>1055.0</td>\n",
       "      <td>676.0</td>\n",
       "      <td>28</td>\n",
       "      <td>61.89</td>\n",
       "    </tr>\n",
       "    <tr>\n",
       "      <th>2</th>\n",
       "      <td>332.5</td>\n",
       "      <td>142.5</td>\n",
       "      <td>0.0</td>\n",
       "      <td>228.0</td>\n",
       "      <td>0.0</td>\n",
       "      <td>932.0</td>\n",
       "      <td>594.0</td>\n",
       "      <td>270</td>\n",
       "      <td>40.27</td>\n",
       "    </tr>\n",
       "    <tr>\n",
       "      <th>3</th>\n",
       "      <td>332.5</td>\n",
       "      <td>142.5</td>\n",
       "      <td>0.0</td>\n",
       "      <td>228.0</td>\n",
       "      <td>0.0</td>\n",
       "      <td>932.0</td>\n",
       "      <td>594.0</td>\n",
       "      <td>365</td>\n",
       "      <td>41.05</td>\n",
       "    </tr>\n",
       "    <tr>\n",
       "      <th>4</th>\n",
       "      <td>198.6</td>\n",
       "      <td>132.4</td>\n",
       "      <td>0.0</td>\n",
       "      <td>192.0</td>\n",
       "      <td>0.0</td>\n",
       "      <td>978.4</td>\n",
       "      <td>825.5</td>\n",
       "      <td>360</td>\n",
       "      <td>44.30</td>\n",
       "    </tr>\n",
       "  </tbody>\n",
       "</table>\n",
       "</div>"
      ],
      "text/plain": [
       "   Cement  Blast Furnace Slag  Fly Ash  Water  Superplasticizer  \\\n",
       "0   540.0                 0.0      0.0  162.0               2.5   \n",
       "1   540.0                 0.0      0.0  162.0               2.5   \n",
       "2   332.5               142.5      0.0  228.0               0.0   \n",
       "3   332.5               142.5      0.0  228.0               0.0   \n",
       "4   198.6               132.4      0.0  192.0               0.0   \n",
       "\n",
       "   Coarse Aggregate  Fine Aggregate  Age  Strength  \n",
       "0            1040.0           676.0   28     79.99  \n",
       "1            1055.0           676.0   28     61.89  \n",
       "2             932.0           594.0  270     40.27  \n",
       "3             932.0           594.0  365     41.05  \n",
       "4             978.4           825.5  360     44.30  "
      ]
     },
     "execution_count": 37,
     "metadata": {},
     "output_type": "execute_result"
    }
   ],
   "source": [
    "concrete_data = pd.read_csv('https://s3-api.us-geo.objectstorage.softlayer.net/cf-courses-data/CognitiveClass/DL0101EN/labs/data/concrete_data.csv')\n",
    "concrete_data.head()"
   ]
  },
  {
   "cell_type": "markdown",
   "metadata": {},
   "source": [
    "So the first concrete sample has 540 cubic meter of cement, 0 cubic meter of blast furnace slag, 0 cubic meter of fly ash, 162 cubic meter of water, 2.5 cubic meter of superplaticizer, 1040 cubic meter of coarse aggregate, 676 cubic meter of fine aggregate. Such a concrete mix which is 28 days old, has a compressive strength of 79.99 MPa. "
   ]
  },
  {
   "cell_type": "markdown",
   "metadata": {},
   "source": [
    "Let's check how many data points we have."
   ]
  },
  {
   "cell_type": "code",
   "execution_count": 38,
   "metadata": {},
   "outputs": [
    {
     "data": {
      "text/plain": [
       "(1030, 9)"
      ]
     },
     "execution_count": 38,
     "metadata": {},
     "output_type": "execute_result"
    }
   ],
   "source": [
    "concrete_data.shape"
   ]
  },
  {
   "cell_type": "markdown",
   "metadata": {},
   "source": [
    "So, there are approximately 1000 samples to train our model on. Because of the few samples, we have to be careful not to overfit the training data."
   ]
  },
  {
   "cell_type": "markdown",
   "metadata": {},
   "source": [
    "Let's check the dataset for any missing values."
   ]
  },
  {
   "cell_type": "code",
   "execution_count": 39,
   "metadata": {},
   "outputs": [
    {
     "data": {
      "text/html": [
       "<div>\n",
       "<style scoped>\n",
       "    .dataframe tbody tr th:only-of-type {\n",
       "        vertical-align: middle;\n",
       "    }\n",
       "\n",
       "    .dataframe tbody tr th {\n",
       "        vertical-align: top;\n",
       "    }\n",
       "\n",
       "    .dataframe thead th {\n",
       "        text-align: right;\n",
       "    }\n",
       "</style>\n",
       "<table border=\"1\" class=\"dataframe\">\n",
       "  <thead>\n",
       "    <tr style=\"text-align: right;\">\n",
       "      <th></th>\n",
       "      <th>Cement</th>\n",
       "      <th>Blast Furnace Slag</th>\n",
       "      <th>Fly Ash</th>\n",
       "      <th>Water</th>\n",
       "      <th>Superplasticizer</th>\n",
       "      <th>Coarse Aggregate</th>\n",
       "      <th>Fine Aggregate</th>\n",
       "      <th>Age</th>\n",
       "      <th>Strength</th>\n",
       "    </tr>\n",
       "  </thead>\n",
       "  <tbody>\n",
       "    <tr>\n",
       "      <th>count</th>\n",
       "      <td>1030.000000</td>\n",
       "      <td>1030.000000</td>\n",
       "      <td>1030.000000</td>\n",
       "      <td>1030.000000</td>\n",
       "      <td>1030.000000</td>\n",
       "      <td>1030.000000</td>\n",
       "      <td>1030.000000</td>\n",
       "      <td>1030.000000</td>\n",
       "      <td>1030.000000</td>\n",
       "    </tr>\n",
       "    <tr>\n",
       "      <th>mean</th>\n",
       "      <td>281.167864</td>\n",
       "      <td>73.895825</td>\n",
       "      <td>54.188350</td>\n",
       "      <td>181.567282</td>\n",
       "      <td>6.204660</td>\n",
       "      <td>972.918932</td>\n",
       "      <td>773.580485</td>\n",
       "      <td>45.662136</td>\n",
       "      <td>35.817961</td>\n",
       "    </tr>\n",
       "    <tr>\n",
       "      <th>std</th>\n",
       "      <td>104.506364</td>\n",
       "      <td>86.279342</td>\n",
       "      <td>63.997004</td>\n",
       "      <td>21.354219</td>\n",
       "      <td>5.973841</td>\n",
       "      <td>77.753954</td>\n",
       "      <td>80.175980</td>\n",
       "      <td>63.169912</td>\n",
       "      <td>16.705742</td>\n",
       "    </tr>\n",
       "    <tr>\n",
       "      <th>min</th>\n",
       "      <td>102.000000</td>\n",
       "      <td>0.000000</td>\n",
       "      <td>0.000000</td>\n",
       "      <td>121.800000</td>\n",
       "      <td>0.000000</td>\n",
       "      <td>801.000000</td>\n",
       "      <td>594.000000</td>\n",
       "      <td>1.000000</td>\n",
       "      <td>2.330000</td>\n",
       "    </tr>\n",
       "    <tr>\n",
       "      <th>25%</th>\n",
       "      <td>192.375000</td>\n",
       "      <td>0.000000</td>\n",
       "      <td>0.000000</td>\n",
       "      <td>164.900000</td>\n",
       "      <td>0.000000</td>\n",
       "      <td>932.000000</td>\n",
       "      <td>730.950000</td>\n",
       "      <td>7.000000</td>\n",
       "      <td>23.710000</td>\n",
       "    </tr>\n",
       "    <tr>\n",
       "      <th>50%</th>\n",
       "      <td>272.900000</td>\n",
       "      <td>22.000000</td>\n",
       "      <td>0.000000</td>\n",
       "      <td>185.000000</td>\n",
       "      <td>6.400000</td>\n",
       "      <td>968.000000</td>\n",
       "      <td>779.500000</td>\n",
       "      <td>28.000000</td>\n",
       "      <td>34.445000</td>\n",
       "    </tr>\n",
       "    <tr>\n",
       "      <th>75%</th>\n",
       "      <td>350.000000</td>\n",
       "      <td>142.950000</td>\n",
       "      <td>118.300000</td>\n",
       "      <td>192.000000</td>\n",
       "      <td>10.200000</td>\n",
       "      <td>1029.400000</td>\n",
       "      <td>824.000000</td>\n",
       "      <td>56.000000</td>\n",
       "      <td>46.135000</td>\n",
       "    </tr>\n",
       "    <tr>\n",
       "      <th>max</th>\n",
       "      <td>540.000000</td>\n",
       "      <td>359.400000</td>\n",
       "      <td>200.100000</td>\n",
       "      <td>247.000000</td>\n",
       "      <td>32.200000</td>\n",
       "      <td>1145.000000</td>\n",
       "      <td>992.600000</td>\n",
       "      <td>365.000000</td>\n",
       "      <td>82.600000</td>\n",
       "    </tr>\n",
       "  </tbody>\n",
       "</table>\n",
       "</div>"
      ],
      "text/plain": [
       "            Cement  Blast Furnace Slag      Fly Ash        Water  \\\n",
       "count  1030.000000         1030.000000  1030.000000  1030.000000   \n",
       "mean    281.167864           73.895825    54.188350   181.567282   \n",
       "std     104.506364           86.279342    63.997004    21.354219   \n",
       "min     102.000000            0.000000     0.000000   121.800000   \n",
       "25%     192.375000            0.000000     0.000000   164.900000   \n",
       "50%     272.900000           22.000000     0.000000   185.000000   \n",
       "75%     350.000000          142.950000   118.300000   192.000000   \n",
       "max     540.000000          359.400000   200.100000   247.000000   \n",
       "\n",
       "       Superplasticizer  Coarse Aggregate  Fine Aggregate          Age  \\\n",
       "count       1030.000000       1030.000000     1030.000000  1030.000000   \n",
       "mean           6.204660        972.918932      773.580485    45.662136   \n",
       "std            5.973841         77.753954       80.175980    63.169912   \n",
       "min            0.000000        801.000000      594.000000     1.000000   \n",
       "25%            0.000000        932.000000      730.950000     7.000000   \n",
       "50%            6.400000        968.000000      779.500000    28.000000   \n",
       "75%           10.200000       1029.400000      824.000000    56.000000   \n",
       "max           32.200000       1145.000000      992.600000   365.000000   \n",
       "\n",
       "          Strength  \n",
       "count  1030.000000  \n",
       "mean     35.817961  \n",
       "std      16.705742  \n",
       "min       2.330000  \n",
       "25%      23.710000  \n",
       "50%      34.445000  \n",
       "75%      46.135000  \n",
       "max      82.600000  "
      ]
     },
     "execution_count": 39,
     "metadata": {},
     "output_type": "execute_result"
    }
   ],
   "source": [
    "concrete_data.describe()"
   ]
  },
  {
   "cell_type": "code",
   "execution_count": 40,
   "metadata": {},
   "outputs": [
    {
     "data": {
      "text/plain": [
       "Cement                0\n",
       "Blast Furnace Slag    0\n",
       "Fly Ash               0\n",
       "Water                 0\n",
       "Superplasticizer      0\n",
       "Coarse Aggregate      0\n",
       "Fine Aggregate        0\n",
       "Age                   0\n",
       "Strength              0\n",
       "dtype: int64"
      ]
     },
     "execution_count": 40,
     "metadata": {},
     "output_type": "execute_result"
    }
   ],
   "source": [
    "concrete_data.isnull().sum()"
   ]
  },
  {
   "cell_type": "markdown",
   "metadata": {},
   "source": [
    "The data looks very clean and is ready to be used to build our model."
   ]
  },
  {
   "cell_type": "markdown",
   "metadata": {},
   "source": [
    "### Split data into predictors and target\n",
    "\n",
    "The target variable in this problem is the concrete sample strength. Therefore, our predictors will be all the other columns."
   ]
  },
  {
   "cell_type": "code",
   "execution_count": 41,
   "metadata": {},
   "outputs": [],
   "source": [
    "concrete_data_columns = concrete_data.columns\n",
    "\n",
    "predictors = concrete_data[concrete_data_columns[concrete_data_columns != 'Strength']] # all columns except Strength\n",
    "target = concrete_data['Strength'] # Strength column"
   ]
  },
  {
   "cell_type": "markdown",
   "metadata": {},
   "source": [
    "Let's do a quick sanity check of the predictors and the target dataframes."
   ]
  },
  {
   "cell_type": "code",
   "execution_count": 42,
   "metadata": {},
   "outputs": [
    {
     "data": {
      "text/html": [
       "<div>\n",
       "<style scoped>\n",
       "    .dataframe tbody tr th:only-of-type {\n",
       "        vertical-align: middle;\n",
       "    }\n",
       "\n",
       "    .dataframe tbody tr th {\n",
       "        vertical-align: top;\n",
       "    }\n",
       "\n",
       "    .dataframe thead th {\n",
       "        text-align: right;\n",
       "    }\n",
       "</style>\n",
       "<table border=\"1\" class=\"dataframe\">\n",
       "  <thead>\n",
       "    <tr style=\"text-align: right;\">\n",
       "      <th></th>\n",
       "      <th>Cement</th>\n",
       "      <th>Blast Furnace Slag</th>\n",
       "      <th>Fly Ash</th>\n",
       "      <th>Water</th>\n",
       "      <th>Superplasticizer</th>\n",
       "      <th>Coarse Aggregate</th>\n",
       "      <th>Fine Aggregate</th>\n",
       "      <th>Age</th>\n",
       "    </tr>\n",
       "  </thead>\n",
       "  <tbody>\n",
       "    <tr>\n",
       "      <th>0</th>\n",
       "      <td>540.0</td>\n",
       "      <td>0.0</td>\n",
       "      <td>0.0</td>\n",
       "      <td>162.0</td>\n",
       "      <td>2.5</td>\n",
       "      <td>1040.0</td>\n",
       "      <td>676.0</td>\n",
       "      <td>28</td>\n",
       "    </tr>\n",
       "    <tr>\n",
       "      <th>1</th>\n",
       "      <td>540.0</td>\n",
       "      <td>0.0</td>\n",
       "      <td>0.0</td>\n",
       "      <td>162.0</td>\n",
       "      <td>2.5</td>\n",
       "      <td>1055.0</td>\n",
       "      <td>676.0</td>\n",
       "      <td>28</td>\n",
       "    </tr>\n",
       "    <tr>\n",
       "      <th>2</th>\n",
       "      <td>332.5</td>\n",
       "      <td>142.5</td>\n",
       "      <td>0.0</td>\n",
       "      <td>228.0</td>\n",
       "      <td>0.0</td>\n",
       "      <td>932.0</td>\n",
       "      <td>594.0</td>\n",
       "      <td>270</td>\n",
       "    </tr>\n",
       "    <tr>\n",
       "      <th>3</th>\n",
       "      <td>332.5</td>\n",
       "      <td>142.5</td>\n",
       "      <td>0.0</td>\n",
       "      <td>228.0</td>\n",
       "      <td>0.0</td>\n",
       "      <td>932.0</td>\n",
       "      <td>594.0</td>\n",
       "      <td>365</td>\n",
       "    </tr>\n",
       "    <tr>\n",
       "      <th>4</th>\n",
       "      <td>198.6</td>\n",
       "      <td>132.4</td>\n",
       "      <td>0.0</td>\n",
       "      <td>192.0</td>\n",
       "      <td>0.0</td>\n",
       "      <td>978.4</td>\n",
       "      <td>825.5</td>\n",
       "      <td>360</td>\n",
       "    </tr>\n",
       "  </tbody>\n",
       "</table>\n",
       "</div>"
      ],
      "text/plain": [
       "   Cement  Blast Furnace Slag  Fly Ash  Water  Superplasticizer  \\\n",
       "0   540.0                 0.0      0.0  162.0               2.5   \n",
       "1   540.0                 0.0      0.0  162.0               2.5   \n",
       "2   332.5               142.5      0.0  228.0               0.0   \n",
       "3   332.5               142.5      0.0  228.0               0.0   \n",
       "4   198.6               132.4      0.0  192.0               0.0   \n",
       "\n",
       "   Coarse Aggregate  Fine Aggregate  Age  \n",
       "0            1040.0           676.0   28  \n",
       "1            1055.0           676.0   28  \n",
       "2             932.0           594.0  270  \n",
       "3             932.0           594.0  365  \n",
       "4             978.4           825.5  360  "
      ]
     },
     "execution_count": 42,
     "metadata": {},
     "output_type": "execute_result"
    }
   ],
   "source": [
    "predictors.head()"
   ]
  },
  {
   "cell_type": "code",
   "execution_count": 43,
   "metadata": {},
   "outputs": [
    {
     "data": {
      "text/plain": [
       "0    79.99\n",
       "1    61.89\n",
       "2    40.27\n",
       "3    41.05\n",
       "4    44.30\n",
       "Name: Strength, dtype: float64"
      ]
     },
     "execution_count": 43,
     "metadata": {},
     "output_type": "execute_result"
    }
   ],
   "source": [
    "target.head()"
   ]
  },
  {
   "cell_type": "markdown",
   "metadata": {},
   "source": [
    "Let's save the number of predictors to n_cols since we will need this number when building our network."
   ]
  },
  {
   "cell_type": "code",
   "execution_count": 44,
   "metadata": {},
   "outputs": [
    {
     "data": {
      "text/plain": [
       "8"
      ]
     },
     "execution_count": 44,
     "metadata": {},
     "output_type": "execute_result"
    }
   ],
   "source": [
    "n_cols = predictors.shape[1] # number of predictors\n",
    "n_cols"
   ]
  },
  {
   "cell_type": "markdown",
   "metadata": {},
   "source": [
    "## Build a Baseline Model"
   ]
  },
  {
   "cell_type": "markdown",
   "metadata": {},
   "source": [
    "### Import Keras"
   ]
  },
  {
   "cell_type": "markdown",
   "metadata": {},
   "source": [
    "The extremely powerful and yet-easy-to-use **Keras** library runs on top of a low-level library such as **TensorFlow** or **PyTorch**. In this case, this assignment will be using **TensorFlow** as a backend."
   ]
  },
  {
   "cell_type": "code",
   "execution_count": 45,
   "metadata": {},
   "outputs": [],
   "source": [
    "import keras"
   ]
  },
  {
   "cell_type": "markdown",
   "metadata": {},
   "source": [
    "As you can see, the TensorFlow backend was used to install the Keras library.\n",
    "\n",
    "Let's import the rest of the packages from the Keras library that we will need to build our regressoin model."
   ]
  },
  {
   "cell_type": "code",
   "execution_count": 46,
   "metadata": {},
   "outputs": [],
   "source": [
    "from keras.models import Sequential\n",
    "from keras.layers import Dense"
   ]
  },
  {
   "cell_type": "markdown",
   "metadata": {},
   "source": [
    "### Build a Neural Network"
   ]
  },
  {
   "cell_type": "markdown",
   "metadata": {},
   "source": [
    "Let's define a function that defines our regression model for us so that we can conveniently call it to create our model."
   ]
  },
  {
   "cell_type": "code",
   "execution_count": 47,
   "metadata": {},
   "outputs": [],
   "source": [
    "# define regression model\n",
    "def regression_model():\n",
    "    # create model\n",
    "    model = Sequential()\n",
    "    model.add(Dense(10, activation='relu', input_shape=(n_cols,)))\n",
    "    model.add(Dense(1))\n",
    "    \n",
    "    # compile model\n",
    "    model.compile(optimizer='adam', loss='mean_squared_error')\n",
    "    return model"
   ]
  },
  {
   "cell_type": "markdown",
   "metadata": {},
   "source": [
    "The above function create a model using the following settings:\n",
    "- 1 hidden layer of *10 nodes*\n",
    "- *ReLU* activation function\n",
    "- *adam* optimizer\n",
    "- *mean squared error* for the loss function"
   ]
  },
  {
   "cell_type": "markdown",
   "metadata": {},
   "source": [
    "### Generate the Test Dataset"
   ]
  },
  {
   "cell_type": "markdown",
   "metadata": {},
   "source": [
    "Let's import scikit-learn in order to randomly split the data into a training and test sets"
   ]
  },
  {
   "cell_type": "code",
   "execution_count": 48,
   "metadata": {},
   "outputs": [],
   "source": [
    "from sklearn.model_selection import train_test_split"
   ]
  },
  {
   "cell_type": "markdown",
   "metadata": {},
   "source": [
    "Randomly split the data into a training and test sets by holding 30% of the data for testing."
   ]
  },
  {
   "cell_type": "code",
   "execution_count": 49,
   "metadata": {},
   "outputs": [],
   "source": [
    "X_train, X_test, y_train, y_test = train_test_split(predictors, target, test_size=0.3, random_state=42)"
   ]
  },
  {
   "cell_type": "markdown",
   "metadata": {},
   "source": [
    "### Train and Evaluate the Neural Network Model"
   ]
  },
  {
   "cell_type": "markdown",
   "metadata": {},
   "source": [
    "Let's call the function now to create our model."
   ]
  },
  {
   "cell_type": "code",
   "execution_count": 50,
   "metadata": {},
   "outputs": [],
   "source": [
    "# build the model\n",
    "model = regression_model()"
   ]
  },
  {
   "cell_type": "markdown",
   "metadata": {},
   "source": [
    "Next, we will train the model for 50 epochs with 1 verbose setting."
   ]
  },
  {
   "cell_type": "code",
   "execution_count": 51,
   "metadata": {},
   "outputs": [
    {
     "name": "stdout",
     "output_type": "stream",
     "text": [
      "Epoch 1/50\n",
      "721/721 [==============================] - 2s 3ms/step - loss: 2198.5144\n",
      "Epoch 2/50\n",
      "721/721 [==============================] - 2s 2ms/step - loss: 1520.0501\n",
      "Epoch 3/50\n",
      "721/721 [==============================] - 2s 2ms/step - loss: 1216.8315\n",
      "Epoch 4/50\n",
      "721/721 [==============================] - 2s 3ms/step - loss: 989.4396\n",
      "Epoch 5/50\n",
      "721/721 [==============================] - 2s 3ms/step - loss: 818.1559\n",
      "Epoch 6/50\n",
      "721/721 [==============================] - 2s 3ms/step - loss: 653.0682\n",
      "Epoch 7/50\n",
      "721/721 [==============================] - 2s 3ms/step - loss: 526.5008\n",
      "Epoch 8/50\n",
      "721/721 [==============================] - 2s 2ms/step - loss: 424.1948\n",
      "Epoch 9/50\n",
      "721/721 [==============================] - 2s 2ms/step - loss: 355.7411\n",
      "Epoch 10/50\n",
      "721/721 [==============================] - 2s 3ms/step - loss: 303.2754A: 0s - loss: 309.10\n",
      "Epoch 11/50\n",
      "721/721 [==============================] - 2s 2ms/step - loss: 260.7527\n",
      "Epoch 12/50\n",
      "721/721 [==============================] - 2s 2ms/step - loss: 225.5876\n",
      "Epoch 13/50\n",
      "721/721 [==============================] - 1s 2ms/step - loss: 204.3110A: 1s - loss: 19 - ETA: 0s - loss: 2\n",
      "Epoch 14/50\n",
      "721/721 [==============================] - 1s 2ms/step - loss: 187.5304\n",
      "Epoch 15/50\n",
      "721/721 [==============================] - 2s 3ms/step - loss: 177.1603\n",
      "Epoch 16/50\n",
      "721/721 [==============================] - 2s 3ms/step - loss: 168.9213\n",
      "Epoch 17/50\n",
      "721/721 [==============================] - 2s 3ms/step - loss: 167.0444\n",
      "Epoch 18/50\n",
      "721/721 [==============================] - 2s 2ms/step - loss: 161.4419\n",
      "Epoch 19/50\n",
      "721/721 [==============================] - 1s 2ms/step - loss: 156.6590A: 0s - loss: 156.01\n",
      "Epoch 20/50\n",
      "721/721 [==============================] - 1s 2ms/step - loss: 152.5794\n",
      "Epoch 21/50\n",
      "721/721 [==============================] - 1s 2ms/step - loss: 151.2679\n",
      "Epoch 22/50\n",
      "721/721 [==============================] - 2s 2ms/step - loss: 152.3825\n",
      "Epoch 23/50\n",
      "721/721 [==============================] - 2s 3ms/step - loss: 147.6546\n",
      "Epoch 24/50\n",
      "721/721 [==============================] - 2s 2ms/step - loss: 145.7814\n",
      "Epoch 25/50\n",
      "721/721 [==============================] - 1s 1ms/step - loss: 143.2292\n",
      "Epoch 26/50\n",
      "721/721 [==============================] - 2s 2ms/step - loss: 144.0481A: 0s - loss: 1\n",
      "Epoch 27/50\n",
      "721/721 [==============================] - 1s 2ms/step - loss: 138.7123\n",
      "Epoch 28/50\n",
      "721/721 [==============================] - 2s 3ms/step - loss: 140.5825A: 0s - loss:\n",
      "Epoch 29/50\n",
      "721/721 [==============================] - 1s 2ms/step - loss: 140.4534\n",
      "Epoch 30/50\n",
      "721/721 [==============================] - 1s 2ms/step - loss: 135.1946\n",
      "Epoch 31/50\n",
      "721/721 [==============================] - 1s 2ms/step - loss: 136.2013\n",
      "Epoch 32/50\n",
      "721/721 [==============================] - 2s 3ms/step - loss: 132.9241\n",
      "Epoch 33/50\n",
      "721/721 [==============================] - 1s 2ms/step - loss: 134.3555\n",
      "Epoch 34/50\n",
      "721/721 [==============================] - 2s 2ms/step - loss: 131.8294\n",
      "Epoch 35/50\n",
      "721/721 [==============================] - 2s 3ms/step - loss: 129.7851A: 0s - loss: \n",
      "Epoch 36/50\n",
      "721/721 [==============================] - 2s 2ms/step - loss: 127.9887\n",
      "Epoch 37/50\n",
      "721/721 [==============================] - 1s 1ms/step - loss: 127.2870\n",
      "Epoch 38/50\n",
      "721/721 [==============================] - 1s 1ms/step - loss: 126.4505\n",
      "Epoch 39/50\n",
      "721/721 [==============================] - 1s 2ms/step - loss: 125.8966\n",
      "Epoch 40/50\n",
      "721/721 [==============================] - 1s 2ms/step - loss: 125.5263\n",
      "Epoch 41/50\n",
      "721/721 [==============================] - 2s 2ms/step - loss: 123.4165\n",
      "Epoch 42/50\n",
      "721/721 [==============================] - 2s 2ms/step - loss: 125.6844\n",
      "Epoch 43/50\n",
      "721/721 [==============================] - 1s 2ms/step - loss: 126.2185\n",
      "Epoch 44/50\n",
      "721/721 [==============================] - 1s 1ms/step - loss: 123.6453\n",
      "Epoch 45/50\n",
      "721/721 [==============================] - 1s 2ms/step - loss: 119.4024A: 0s - loss: 11\n",
      "Epoch 46/50\n",
      "721/721 [==============================] - 1s 2ms/step - loss: 121.4601\n",
      "Epoch 47/50\n",
      "721/721 [==============================] - 1s 1ms/step - loss: 119.1882\n",
      "Epoch 48/50\n",
      "721/721 [==============================] - 1s 2ms/step - loss: 118.0875\n",
      "Epoch 49/50\n",
      "721/721 [==============================] - 1s 2ms/step - loss: 119.6758A: 0s - loss: 118.606\n",
      "Epoch 50/50\n",
      "721/721 [==============================] - 1s 2ms/step - loss: 121.2719\n"
     ]
    },
    {
     "data": {
      "text/plain": [
       "<keras.callbacks.History at 0x7fbd33cc3be0>"
      ]
     },
     "execution_count": 51,
     "metadata": {},
     "output_type": "execute_result"
    }
   ],
   "source": [
    "# fit the model - 50 epochs with 1 verbose setting\n",
    "model.fit(X_train, y_train, epochs=50, verbose=1)"
   ]
  },
  {
   "cell_type": "markdown",
   "metadata": {},
   "source": [
    "Next we need to evaluate the model on the test data."
   ]
  },
  {
   "cell_type": "code",
   "execution_count": 52,
   "metadata": {},
   "outputs": [
    {
     "name": "stdout",
     "output_type": "stream",
     "text": [
      "309/309 [==============================] - 0s 2ms/step\n",
      "122.88544748053195\n"
     ]
    }
   ],
   "source": [
    "# evaluate the model using the test dataset\n",
    "loss_val = model.evaluate(X_test, y_test)\n",
    "\n",
    "# varify the prediction\n",
    "y_pred = model.predict(X_test)\n",
    "\n",
    "# output the evaluate value\n",
    "print(loss_val)\n",
    "\n",
    "# output the prediction\n",
    "# print(y_pred)"
   ]
  },
  {
   "cell_type": "markdown",
   "metadata": {},
   "source": [
    "Now we need to compute the mean squared error between the predicted concrete strength and the actual concrete strength.\n",
    "\n",
    "Let's import the *mean_squared_error* function from *scikit-learn*."
   ]
  },
  {
   "cell_type": "code",
   "execution_count": 53,
   "metadata": {},
   "outputs": [],
   "source": [
    "from sklearn.metrics import mean_squared_error"
   ]
  },
  {
   "cell_type": "markdown",
   "metadata": {},
   "source": [
    "Evaluate the model on the test data and compute the mean squared error between the predicted concrete strength and the actual concrete strength. You can use the mean_squared_error function from Scikit-learn."
   ]
  },
  {
   "cell_type": "code",
   "execution_count": 54,
   "metadata": {},
   "outputs": [
    {
     "name": "stdout",
     "output_type": "stream",
     "text": [
      "122.88544739661614 0.0\n"
     ]
    }
   ],
   "source": [
    "mean_square_error = mean_squared_error(y_test, y_pred)\n",
    "mean = np.mean(mean_square_error)\n",
    "standard_deviation = np.std(mean_square_error)\n",
    "\n",
    "print(mean, standard_deviation)"
   ]
  },
  {
   "cell_type": "markdown",
   "metadata": {},
   "source": [
    "Create a list of 50 mean squared errors and report mean and the standard deviation of the mean squared errors."
   ]
  },
  {
   "cell_type": "code",
   "execution_count": 55,
   "metadata": {},
   "outputs": [
    {
     "name": "stdout",
     "output_type": "stream",
     "text": [
      "mean_square_error at 1 is 85.17833117142465\n",
      "mean_square_error at 2 is 88.50628904077227\n",
      "mean_square_error at 3 is 67.9527745786994\n",
      "mean_square_error at 4 is 72.85181935628255\n",
      "mean_square_error at 5 is 66.69403952688076\n",
      "mean_square_error at 6 is 64.16202221719192\n",
      "mean_square_error at 7 is 70.75473461953567\n",
      "mean_square_error at 8 is 61.93180886672924\n",
      "mean_square_error at 9 is 58.60612006326323\n",
      "mean_square_error at 10 is 54.97143023839661\n",
      "mean_square_error at 11 is 61.655313362195656\n",
      "mean_square_error at 12 is 48.341843490847495\n",
      "mean_square_error at 13 is 56.04989104903632\n",
      "mean_square_error at 14 is 62.07149295745158\n",
      "mean_square_error at 15 is 50.01573841625819\n",
      "mean_square_error at 16 is 51.084679081987794\n",
      "mean_square_error at 17 is 51.45828755696615\n",
      "mean_square_error at 18 is 50.389116342785286\n",
      "mean_square_error at 19 is 43.876153964440796\n",
      "mean_square_error at 20 is 50.3311249199037\n",
      "mean_square_error at 21 is 43.621328113148515\n",
      "mean_square_error at 22 is 45.23569735431362\n",
      "mean_square_error at 23 is 44.77433073173449\n",
      "mean_square_error at 24 is 47.74038298770448\n",
      "mean_square_error at 25 is 49.577403404951866\n",
      "mean_square_error at 26 is 49.070599133142764\n",
      "mean_square_error at 27 is 50.64923826544802\n",
      "mean_square_error at 28 is 46.201482865416885\n",
      "mean_square_error at 29 is 52.229788178379096\n",
      "mean_square_error at 30 is 52.02128111583129\n",
      "mean_square_error at 31 is 70.85472455071015\n",
      "mean_square_error at 32 is 42.84320814632675\n",
      "mean_square_error at 33 is 48.19918924473636\n",
      "mean_square_error at 34 is 49.55134543014576\n",
      "mean_square_error at 35 is 46.44451909234994\n",
      "mean_square_error at 36 is 62.40065420947029\n",
      "mean_square_error at 37 is 53.02807143128034\n",
      "mean_square_error at 38 is 52.83064745313527\n",
      "mean_square_error at 39 is 49.266871665287944\n",
      "mean_square_error at 40 is 44.96461602862213\n",
      "mean_square_error at 41 is 59.64927054840384\n",
      "mean_square_error at 42 is 46.89093622497756\n",
      "mean_square_error at 43 is 53.217773474535896\n",
      "mean_square_error at 44 is 54.860396104337326\n",
      "mean_square_error at 45 is 55.49522407309523\n",
      "mean_square_error at 46 is 53.62440533931201\n",
      "mean_square_error at 47 is 56.48886202222707\n",
      "mean_square_error at 48 is 51.49953942160005\n",
      "mean_square_error at 49 is 51.41596210813059\n",
      "mean_square_error at 50 is 52.46881720780555\n",
      "\n",
      "\n",
      "\n",
      "\n",
      "The output below is the mean and standard deviation of 50 mean squared errors without normalized data.\n",
      "- Number of epochs for each training: 50\n",
      "- Mean: 55.07999119988602\n",
      "- Standard Deviation: 9.83865011199723\n"
     ]
    }
   ],
   "source": [
    "total_mean_squared_errors = 50\n",
    "epochs = 50\n",
    "\n",
    "mean_squared_errors = []\n",
    "\n",
    "for i in range(0, total_mean_squared_errors):\n",
    "    # split the train and test datasets\n",
    "    X_train, X_test, y_train, y_test = train_test_split(predictors, target, test_size=0.3, random_state=i)\n",
    "    \n",
    "    # fit the model\n",
    "    model.fit(X_train, y_train, epochs=epochs, verbose=0)\n",
    "    \n",
    "    # evaluate the model\n",
    "    mse = model.evaluate(X_test, y_test, verbose=0)\n",
    "    print(\"mean_square_error at \" + str(i+1) + \" is \" + str(mse))\n",
    "    \n",
    "    # get the prediction\n",
    "    y_pred = model.predict(X_test)\n",
    "    \n",
    "    # get the mean square error\n",
    "    mean_square_error = mean_squared_error(y_test, y_pred)\n",
    "    \n",
    "    # append result to the mean_squared_errors list\n",
    "    mean_squared_errors.append(mean_square_error)\n",
    "\n",
    "# convert to array list\n",
    "mean_squared_errors = np.array(mean_squared_errors)\n",
    "\n",
    "# get mean value from the array list\n",
    "mean = np.mean(mean_squared_errors)\n",
    "\n",
    "# get standard deviation using the array list\n",
    "standard_deviation = np.std(mean_squared_errors)\n",
    "\n",
    "print('\\n')\n",
    "print('\\n')\n",
    "print(\"The output below is the mean and standard deviation of \" + str(total_mean_squared_errors) + \" mean squared errors without normalized data.\")\n",
    "print(\"- Number of epochs for each training: \" + str(epochs))\n",
    "print(\"- Mean: \" + str(mean))\n",
    "print(\"- Standard Deviation: \" + str(standard_deviation))"
   ]
  },
  {
   "cell_type": "code",
   "execution_count": null,
   "metadata": {},
   "outputs": [],
   "source": []
  }
 ],
 "metadata": {
  "kernelspec": {
   "display_name": "Python",
   "language": "python",
   "name": "conda-env-python-py"
  },
  "language_info": {
   "codemirror_mode": {
    "name": "ipython",
    "version": 3
   },
   "file_extension": ".py",
   "mimetype": "text/x-python",
   "name": "python",
   "nbconvert_exporter": "python",
   "pygments_lexer": "ipython3",
   "version": "3.6.10"
  }
 },
 "nbformat": 4,
 "nbformat_minor": 4
}
