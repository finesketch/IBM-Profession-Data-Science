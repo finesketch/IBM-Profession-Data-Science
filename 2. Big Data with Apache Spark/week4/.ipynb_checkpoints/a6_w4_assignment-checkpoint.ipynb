{
 "cells": [
  {
   "cell_type": "markdown",
   "metadata": {},
   "source": [
    "Welcome to the final project of “Apache Spark for Scalable Machine Learning on BigData”. In this assignment you’ll analyze a real-world dataset and apply machine learning on it using Apache Spark.\n",
    "\n",
    "In order to pass, you need to implement some code (as described in the instruction section on Coursera) and finally answer a quiz on the Coursera platform.\n",
    "\n",
    "This notebook is designed to run in a IBM Watson Studio default runtime (NOT the Watson Studio Apache Spark Runtime as the default runtime with 1 vCPU is free of charge). Therefore, we install Apache Spark in local mode for test purposes only. Please don't use it in production.\n",
    "\n",
    "In case you are facing issues, please read the following two documents first:\n",
    "\n",
    "https://github.com/IBM/skillsnetwork/wiki/Environment-Setup\n",
    "https://github.com/IBM/skillsnetwork/wiki/FAQ\n",
    "\n",
    "Then, please feel free to ask:\n",
    "\n",
    "https://coursera.org/learn/machine-learning-big-data-apache-spark/discussions/all\n",
    "\n",
    "Please make sure to follow the guidelines before asking a question:\n",
    "\n",
    "https://github.com/IBM/skillsnetwork/wiki/FAQ#im-feeling-lost-and-confused-please-help-me\n",
    "\n",
    "If running outside Watson Studio, this should work as well. In case you are running in an Apache Spark context outside Watson Studio, please remove the Apache Spark setup in the first notebook cells."
   ]
  },
  {
   "cell_type": "code",
   "execution_count": 1,
   "metadata": {},
   "outputs": [
    {
     "name": "stdout",
     "output_type": "stream",
     "text": [
      "Requirement already satisfied: pyspark==2.4.5 in /home/jupyterlab/conda/envs/python/lib/python3.6/site-packages (2.4.5)\n",
      "Requirement already satisfied: py4j==0.10.7 in /home/jupyterlab/conda/envs/python/lib/python3.6/site-packages (from pyspark==2.4.5) (0.10.7)\n"
     ]
    }
   ],
   "source": [
    "from IPython.display import Markdown, display\n",
    "def printmd(string):\n",
    "    display(Markdown('# <span style=\"color:red\">'+string+'</span>'))\n",
    "\n",
    "\n",
    "if ('sc' in locals() or 'sc' in globals()):\n",
    "    printmd('<<<<<!!!!! It seems that you are running in a IBM Watson Studio Apache Spark Notebook. Please run it in an IBM Watson Studio Default Runtime (without Apache Spark) !!!!!>>>>>')\n",
    "    \n",
    "!pip install pyspark==2.4.5\n",
    "\n",
    "try:\n",
    "    from pyspark import SparkContext, SparkConf\n",
    "    from pyspark.sql import SparkSession\n",
    "except ImportError as e:\n",
    "    printmd('<<<<<!!!!! Please restart your kernel after installing Apache Spark !!!!!>>>>>')\n",
    "    \n",
    "sc = SparkContext.getOrCreate(SparkConf().setMaster(\"local[*]\"))\n",
    "\n",
    "spark = SparkSession \\\n",
    "    .builder \\\n",
    "    .getOrCreate()"
   ]
  },
  {
   "cell_type": "markdown",
   "metadata": {},
   "source": [
    "Let’s start by downloading the dataset and creating a dataframe. This dataset can be found on DAX, the IBM Data Asset Exchange and can be downloaded for free.\n",
    "\n",
    "https://developer.ibm.com/exchanges/data/all/jfk-weather-data/"
   ]
  },
  {
   "cell_type": "code",
   "execution_count": 2,
   "metadata": {},
   "outputs": [
    {
     "name": "stdout",
     "output_type": "stream",
     "text": [
      "--2020-07-19 15:02:20--  http://max-training-data.s3-api.us-geo.objectstorage.softlayer.net/noaa-weather/jfk_weather.tar.gz\n",
      "Resolving max-training-data.s3-api.us-geo.objectstorage.softlayer.net (max-training-data.s3-api.us-geo.objectstorage.softlayer.net)... 67.228.254.196\n",
      "Connecting to max-training-data.s3-api.us-geo.objectstorage.softlayer.net (max-training-data.s3-api.us-geo.objectstorage.softlayer.net)|67.228.254.196|:80... connected.\n",
      "HTTP request sent, awaiting response... 200 OK\n",
      "Length: 2575759 (2.5M) [application/x-tar]\n",
      "Saving to: ‘jfk_weather.tar.gz’\n",
      "\n",
      "jfk_weather.tar.gz  100%[===================>]   2.46M  12.6MB/s    in 0.2s    \n",
      "\n",
      "2020-07-19 15:02:21 (12.6 MB/s) - ‘jfk_weather.tar.gz’ saved [2575759/2575759]\n",
      "\n",
      "./._jfk_weather.csv\n",
      "jfk_weather.csv\n"
     ]
    }
   ],
   "source": [
    "# delete files from previous runs\n",
    "!rm -f jfk_weather*\n",
    "\n",
    "# download the file containing the data in CSV format\n",
    "!wget http://max-training-data.s3-api.us-geo.objectstorage.softlayer.net/noaa-weather/jfk_weather.tar.gz\n",
    "\n",
    "# extract the data\n",
    "!tar xvfz jfk_weather.tar.gz\n",
    "    \n",
    "# create a dataframe out of it by using the first row as field names and trying to infer a schema based on contents\n",
    "df = spark.read.option(\"header\", \"true\").option(\"inferSchema\",\"true\").csv('jfk_weather.csv')\n",
    "\n",
    "# register a corresponding query table\n",
    "df.createOrReplaceTempView('df')"
   ]
  },
  {
   "cell_type": "code",
   "execution_count": 3,
   "metadata": {},
   "outputs": [
    {
     "name": "stdout",
     "output_type": "stream",
     "text": [
      "root\n",
      " |-- STATION: string (nullable = true)\n",
      " |-- STATION_NAME: string (nullable = true)\n",
      " |-- ELEVATION: double (nullable = true)\n",
      " |-- LATITUDE: double (nullable = true)\n",
      " |-- LONGITUDE: double (nullable = true)\n",
      " |-- DATE: string (nullable = true)\n",
      " |-- REPORTTPYE: string (nullable = true)\n",
      " |-- HOURLYSKYCONDITIONS: string (nullable = true)\n",
      " |-- HOURLYVISIBILITY: string (nullable = true)\n",
      " |-- HOURLYPRSENTWEATHERTYPE: string (nullable = true)\n",
      " |-- HOURLYDRYBULBTEMPF: string (nullable = true)\n",
      " |-- HOURLYDRYBULBTEMPC: string (nullable = true)\n",
      " |-- HOURLYWETBULBTEMPF: string (nullable = true)\n",
      " |-- HOURLYWETBULBTEMPC: string (nullable = true)\n",
      " |-- HOURLYDewPointTempF: string (nullable = true)\n",
      " |-- HOURLYDewPointTempC: string (nullable = true)\n",
      " |-- HOURLYRelativeHumidity: string (nullable = true)\n",
      " |-- HOURLYWindSpeed: string (nullable = true)\n",
      " |-- HOURLYWindDirection: string (nullable = true)\n",
      " |-- HOURLYWindGustSpeed: integer (nullable = true)\n",
      " |-- HOURLYStationPressure: string (nullable = true)\n",
      " |-- HOURLYPressureTendency: integer (nullable = true)\n",
      " |-- HOURLYPressureChange: string (nullable = true)\n",
      " |-- HOURLYSeaLevelPressure: string (nullable = true)\n",
      " |-- HOURLYPrecip: string (nullable = true)\n",
      " |-- HOURLYAltimeterSetting: string (nullable = true)\n",
      " |-- DAILYMaximumDryBulbTemp: integer (nullable = true)\n",
      " |-- DAILYMinimumDryBulbTemp: integer (nullable = true)\n",
      " |-- DAILYAverageDryBulbTemp: integer (nullable = true)\n",
      " |-- DAILYDeptFromNormalAverageTemp: double (nullable = true)\n",
      " |-- DAILYAverageRelativeHumidity: integer (nullable = true)\n",
      " |-- DAILYAverageDewPointTemp: integer (nullable = true)\n",
      " |-- DAILYAverageWetBulbTemp: integer (nullable = true)\n",
      " |-- DAILYHeatingDegreeDays: integer (nullable = true)\n",
      " |-- DAILYCoolingDegreeDays: integer (nullable = true)\n",
      " |-- DAILYSunrise: integer (nullable = true)\n",
      " |-- DAILYSunset: integer (nullable = true)\n",
      " |-- DAILYWeather: string (nullable = true)\n",
      " |-- DAILYPrecip: string (nullable = true)\n",
      " |-- DAILYSnowfall: string (nullable = true)\n",
      " |-- DAILYSnowDepth: string (nullable = true)\n",
      " |-- DAILYAverageStationPressure: double (nullable = true)\n",
      " |-- DAILYAverageSeaLevelPressure: double (nullable = true)\n",
      " |-- DAILYAverageWindSpeed: double (nullable = true)\n",
      " |-- DAILYPeakWindSpeed: integer (nullable = true)\n",
      " |-- PeakWindDirection: integer (nullable = true)\n",
      " |-- DAILYSustainedWindSpeed: integer (nullable = true)\n",
      " |-- DAILYSustainedWindDirection: integer (nullable = true)\n",
      " |-- MonthlyMaximumTemp: double (nullable = true)\n",
      " |-- MonthlyMinimumTemp: double (nullable = true)\n",
      " |-- MonthlyMeanTemp: double (nullable = true)\n",
      " |-- MonthlyAverageRH: string (nullable = true)\n",
      " |-- MonthlyDewpointTemp: string (nullable = true)\n",
      " |-- MonthlyWetBulbTemp: string (nullable = true)\n",
      " |-- MonthlyAvgHeatingDegreeDays: integer (nullable = true)\n",
      " |-- MonthlyAvgCoolingDegreeDays: integer (nullable = true)\n",
      " |-- MonthlyStationPressure: double (nullable = true)\n",
      " |-- MonthlySeaLevelPressure: double (nullable = true)\n",
      " |-- MonthlyAverageWindSpeed: double (nullable = true)\n",
      " |-- MonthlyTotalSnowfall: string (nullable = true)\n",
      " |-- MonthlyDeptFromNormalMaximumTemp: double (nullable = true)\n",
      " |-- MonthlyDeptFromNormalMinimumTemp: double (nullable = true)\n",
      " |-- MonthlyDeptFromNormalAverageTemp: double (nullable = true)\n",
      " |-- MonthlyDeptFromNormalPrecip: string (nullable = true)\n",
      " |-- MonthlyTotalLiquidPrecip: string (nullable = true)\n",
      " |-- MonthlyGreatestPrecip: string (nullable = true)\n",
      " |-- MonthlyGreatestPrecipDate: string (nullable = true)\n",
      " |-- MonthlyGreatestSnowfall: string (nullable = true)\n",
      " |-- MonthlyGreatestSnowfallDate: string (nullable = true)\n",
      " |-- MonthlyGreatestSnowDepth: string (nullable = true)\n",
      " |-- MonthlyGreatestSnowDepthDate: integer (nullable = true)\n",
      " |-- MonthlyDaysWithGT90Temp: integer (nullable = true)\n",
      " |-- MonthlyDaysWithLT32Temp: integer (nullable = true)\n",
      " |-- MonthlyDaysWithGT32Temp: integer (nullable = true)\n",
      " |-- MonthlyDaysWithLT0Temp: integer (nullable = true)\n",
      " |-- MonthlyDaysWithGT001Precip: string (nullable = true)\n",
      " |-- MonthlyDaysWithGT010Precip: string (nullable = true)\n",
      " |-- MonthlyDaysWithGT1Snow: integer (nullable = true)\n",
      " |-- MonthlyMaxSeaLevelPressureValue: string (nullable = true)\n",
      " |-- MonthlyMaxSeaLevelPressureDate: integer (nullable = true)\n",
      " |-- MonthlyMaxSeaLevelPressureTime: integer (nullable = true)\n",
      " |-- MonthlyMinSeaLevelPressureValue: string (nullable = true)\n",
      " |-- MonthlyMinSeaLevelPressureDate: integer (nullable = true)\n",
      " |-- MonthlyMinSeaLevelPressureTime: integer (nullable = true)\n",
      " |-- MonthlyTotalHeatingDegreeDays: string (nullable = true)\n",
      " |-- MonthlyTotalCoolingDegreeDays: string (nullable = true)\n",
      " |-- MonthlyDeptFromNormalHeatingDD: string (nullable = true)\n",
      " |-- MonthlyDeptFromNormalCoolingDD: string (nullable = true)\n",
      " |-- MonthlyTotalSeasonToDateHeatingDD: integer (nullable = true)\n",
      " |-- MonthlyTotalSeasonToDateCoolingDD: integer (nullable = true)\n",
      "\n"
     ]
    }
   ],
   "source": [
    "df.printSchema()"
   ]
  },
  {
   "cell_type": "code",
   "execution_count": 5,
   "metadata": {},
   "outputs": [
    {
     "name": "stdout",
     "output_type": "stream",
     "text": [
      "+----------+--------------------+---------+--------+---------+----------------+----------+--------------------+----------------+-----------------------+------------------+------------------+------------------+------------------+-------------------+-------------------+----------------------+---------------+-------------------+-------------------+---------------------+----------------------+--------------------+----------------------+------------+----------------------+-----------------------+-----------------------+-----------------------+------------------------------+----------------------------+------------------------+-----------------------+----------------------+----------------------+------------+-----------+------------+-----------+-------------+--------------+---------------------------+----------------------------+---------------------+------------------+-----------------+-----------------------+---------------------------+------------------+------------------+---------------+----------------+-------------------+------------------+---------------------------+---------------------------+----------------------+-----------------------+-----------------------+--------------------+--------------------------------+--------------------------------+--------------------------------+---------------------------+------------------------+---------------------+-------------------------+-----------------------+---------------------------+------------------------+----------------------------+-----------------------+-----------------------+-----------------------+----------------------+--------------------------+--------------------------+----------------------+-------------------------------+------------------------------+------------------------------+-------------------------------+------------------------------+------------------------------+-----------------------------+-----------------------------+------------------------------+------------------------------+---------------------------------+---------------------------------+\n",
      "|   STATION|        STATION_NAME|ELEVATION|LATITUDE|LONGITUDE|            DATE|REPORTTPYE| HOURLYSKYCONDITIONS|HOURLYVISIBILITY|HOURLYPRSENTWEATHERTYPE|HOURLYDRYBULBTEMPF|HOURLYDRYBULBTEMPC|HOURLYWETBULBTEMPF|HOURLYWETBULBTEMPC|HOURLYDewPointTempF|HOURLYDewPointTempC|HOURLYRelativeHumidity|HOURLYWindSpeed|HOURLYWindDirection|HOURLYWindGustSpeed|HOURLYStationPressure|HOURLYPressureTendency|HOURLYPressureChange|HOURLYSeaLevelPressure|HOURLYPrecip|HOURLYAltimeterSetting|DAILYMaximumDryBulbTemp|DAILYMinimumDryBulbTemp|DAILYAverageDryBulbTemp|DAILYDeptFromNormalAverageTemp|DAILYAverageRelativeHumidity|DAILYAverageDewPointTemp|DAILYAverageWetBulbTemp|DAILYHeatingDegreeDays|DAILYCoolingDegreeDays|DAILYSunrise|DAILYSunset|DAILYWeather|DAILYPrecip|DAILYSnowfall|DAILYSnowDepth|DAILYAverageStationPressure|DAILYAverageSeaLevelPressure|DAILYAverageWindSpeed|DAILYPeakWindSpeed|PeakWindDirection|DAILYSustainedWindSpeed|DAILYSustainedWindDirection|MonthlyMaximumTemp|MonthlyMinimumTemp|MonthlyMeanTemp|MonthlyAverageRH|MonthlyDewpointTemp|MonthlyWetBulbTemp|MonthlyAvgHeatingDegreeDays|MonthlyAvgCoolingDegreeDays|MonthlyStationPressure|MonthlySeaLevelPressure|MonthlyAverageWindSpeed|MonthlyTotalSnowfall|MonthlyDeptFromNormalMaximumTemp|MonthlyDeptFromNormalMinimumTemp|MonthlyDeptFromNormalAverageTemp|MonthlyDeptFromNormalPrecip|MonthlyTotalLiquidPrecip|MonthlyGreatestPrecip|MonthlyGreatestPrecipDate|MonthlyGreatestSnowfall|MonthlyGreatestSnowfallDate|MonthlyGreatestSnowDepth|MonthlyGreatestSnowDepthDate|MonthlyDaysWithGT90Temp|MonthlyDaysWithLT32Temp|MonthlyDaysWithGT32Temp|MonthlyDaysWithLT0Temp|MonthlyDaysWithGT001Precip|MonthlyDaysWithGT010Precip|MonthlyDaysWithGT1Snow|MonthlyMaxSeaLevelPressureValue|MonthlyMaxSeaLevelPressureDate|MonthlyMaxSeaLevelPressureTime|MonthlyMinSeaLevelPressureValue|MonthlyMinSeaLevelPressureDate|MonthlyMinSeaLevelPressureTime|MonthlyTotalHeatingDegreeDays|MonthlyTotalCoolingDegreeDays|MonthlyDeptFromNormalHeatingDD|MonthlyDeptFromNormalCoolingDD|MonthlyTotalSeasonToDateHeatingDD|MonthlyTotalSeasonToDateCoolingDD|\n",
      "+----------+--------------------+---------+--------+---------+----------------+----------+--------------------+----------------+-----------------------+------------------+------------------+------------------+------------------+-------------------+-------------------+----------------------+---------------+-------------------+-------------------+---------------------+----------------------+--------------------+----------------------+------------+----------------------+-----------------------+-----------------------+-----------------------+------------------------------+----------------------------+------------------------+-----------------------+----------------------+----------------------+------------+-----------+------------+-----------+-------------+--------------+---------------------------+----------------------------+---------------------+------------------+-----------------+-----------------------+---------------------------+------------------+------------------+---------------+----------------+-------------------+------------------+---------------------------+---------------------------+----------------------+-----------------------+-----------------------+--------------------+--------------------------------+--------------------------------+--------------------------------+---------------------------+------------------------+---------------------+-------------------------+-----------------------+---------------------------+------------------------+----------------------------+-----------------------+-----------------------+-----------------------+----------------------+--------------------------+--------------------------+----------------------+-------------------------------+------------------------------+------------------------------+-------------------------------+------------------------------+------------------------------+-----------------------------+-----------------------------+------------------------------+------------------------------+---------------------------------+---------------------------------+\n",
      "|WBAN:94789|JFK INTERNATIONAL...|      3.4| 40.6386| -73.7622|2010-01-01 00:51|     FM-15|FEW:02 7 SCT:04 1...|            6.00|   -RA:02 PL:06 BR:1...|                33|               0.6|                32|               0.1|                 31|               -0.6|                    92|              0|                000|               null|                29.97|                     8|                null|                 29.99|        0.01|                 29.99|                   null|                   null|                   null|                          null|                        null|                    null|                   null|                  null|                  null|         719|       1639|        null|       null|         null|          null|                       null|                        null|                 null|              null|             null|                   null|                       null|              null|              null|           null|            null|               null|              null|                       null|                       null|                  null|                   null|                   null|                null|                            null|                            null|                            null|                       null|                    null|                 null|                     null|                   null|                       null|                    null|                        null|                   null|                   null|                   null|                  null|                      null|                      null|                  null|                           null|                         -9999|                         -9999|                           null|                         -9999|                         -9999|                         null|                         null|                          null|                          null|                             null|                             null|\n",
      "|WBAN:94789|JFK INTERNATIONAL...|      3.4| 40.6386| -73.7622|2010-01-01 01:00|     FM-12|                null|            5.59|                ||PL:79|                33|               0.6|                32|               0.1|                 31|               -0.6|                    92|              0|                000|               null|                29.96|                     8|               +0.05|                 29.99|        null|                  null|                     34|                     30|                     32|                          -1.7|                        null|                    null|                   null|                    33|                     0|         719|       1639|        null|       null|         null|          null|                       null|                        null|                 null|              null|             null|                   null|                       null|              null|              null|           null|            null|               null|              null|                       null|                       null|                  null|                   null|                   null|                null|                            null|                            null|                            null|                       null|                    null|                 null|                     null|                   null|                       null|                    null|                        null|                   null|                   null|                   null|                  null|                      null|                      null|                  null|                           null|                         -9999|                         -9999|                           null|                         -9999|                         -9999|                         null|                         null|                          null|                          null|                             null|                             null|\n",
      "|WBAN:94789|JFK INTERNATIONAL...|      3.4| 40.6386| -73.7622|2010-01-01 01:51|     FM-15|FEW:02 6 SCT:04 1...|            6.00|   -RA:02 PL:06 BR:1...|                33|               0.6|                33|               0.3|                 32|                0.0|                    96|              0|                000|               null|                29.97|                  null|                null|                 29.99|        0.02|                 29.99|                   null|                   null|                   null|                          null|                        null|                    null|                   null|                  null|                  null|         719|       1639|        null|       null|         null|          null|                       null|                        null|                 null|              null|             null|                   null|                       null|              null|              null|           null|            null|               null|              null|                       null|                       null|                  null|                   null|                   null|                null|                            null|                            null|                            null|                       null|                    null|                 null|                     null|                   null|                       null|                    null|                        null|                   null|                   null|                   null|                  null|                      null|                      null|                  null|                           null|                         -9999|                         -9999|                           null|                         -9999|                         -9999|                         null|                         null|                          null|                          null|                             null|                             null|\n",
      "|WBAN:94789|JFK INTERNATIONAL...|      3.4| 40.6386| -73.7622|2010-01-01 02:03|     FM-16|FEW:02 6 SCT:04 1...|            6.00|   -RA:02 BR:1 |RA:6...|                34|               1.0|                33|               0.7|                 32|                0.0|                    93|              0|                000|               null|                29.97|                  null|                null|                  null|           T|                 29.99|                   null|                   null|                   null|                          null|                        null|                    null|                   null|                  null|                  null|         719|       1639|        null|       null|         null|          null|                       null|                        null|                 null|              null|             null|                   null|                       null|              null|              null|           null|            null|               null|              null|                       null|                       null|                  null|                   null|                   null|                null|                            null|                            null|                            null|                       null|                    null|                 null|                     null|                   null|                       null|                    null|                        null|                   null|                   null|                   null|                  null|                      null|                      null|                  null|                           null|                         -9999|                         -9999|                           null|                         -9999|                         -9999|                         null|                         null|                          null|                          null|                             null|                             null|\n",
      "|WBAN:94789|JFK INTERNATIONAL...|      3.4| 40.6386| -73.7622|2010-01-01 02:28|     FM-16|BKN:07 7 BKN:07 1...|            5.00|   -RA:02 BR:1 |RA:6...|                34|               1.0|                33|               0.7|                 32|                0.0|                    93|              0|                000|               null|                29.97|                  null|                null|                  null|           T|                 29.99|                   null|                   null|                   null|                          null|                        null|                    null|                   null|                  null|                  null|         719|       1639|        null|       null|         null|          null|                       null|                        null|                 null|              null|             null|                   null|                       null|              null|              null|           null|            null|               null|              null|                       null|                       null|                  null|                   null|                   null|                null|                            null|                            null|                            null|                       null|                    null|                 null|                     null|                   null|                       null|                    null|                        null|                   null|                   null|                   null|                  null|                      null|                      null|                  null|                           null|                         -9999|                         -9999|                           null|                         -9999|                         -9999|                         null|                         null|                          null|                          null|                             null|                             null|\n",
      "+----------+--------------------+---------+--------+---------+----------------+----------+--------------------+----------------+-----------------------+------------------+------------------+------------------+------------------+-------------------+-------------------+----------------------+---------------+-------------------+-------------------+---------------------+----------------------+--------------------+----------------------+------------+----------------------+-----------------------+-----------------------+-----------------------+------------------------------+----------------------------+------------------------+-----------------------+----------------------+----------------------+------------+-----------+------------+-----------+-------------+--------------+---------------------------+----------------------------+---------------------+------------------+-----------------+-----------------------+---------------------------+------------------+------------------+---------------+----------------+-------------------+------------------+---------------------------+---------------------------+----------------------+-----------------------+-----------------------+--------------------+--------------------------------+--------------------------------+--------------------------------+---------------------------+------------------------+---------------------+-------------------------+-----------------------+---------------------------+------------------------+----------------------------+-----------------------+-----------------------+-----------------------+----------------------+--------------------------+--------------------------+----------------------+-------------------------------+------------------------------+------------------------------+-------------------------------+------------------------------+------------------------------+-----------------------------+-----------------------------+------------------------------+------------------------------+---------------------------------+---------------------------------+\n",
      "only showing top 5 rows\n",
      "\n"
     ]
    }
   ],
   "source": [
    "df.show(5)"
   ]
  },
  {
   "cell_type": "markdown",
   "metadata": {},
   "source": [
    "The dataset contains some null values, therefore schema inference didn’t work properly for all columns, in addition, a column contained trailing characters, so we need to clean up the data set first. This is a normal task in any data science project since your data is never clean, don’t worry if you don’t understand all code, you won’t be asked about it."
   ]
  },
  {
   "cell_type": "code",
   "execution_count": 6,
   "metadata": {},
   "outputs": [],
   "source": [
    "import random\n",
    "random.seed(42)\n",
    "\n",
    "from pyspark.sql.functions import translate, col\n",
    "\n",
    "df_cleaned = df \\\n",
    "    .withColumn(\"HOURLYWindSpeed\", df.HOURLYWindSpeed.cast('double')) \\\n",
    "    .withColumn(\"HOURLYWindDirection\", df.HOURLYWindDirection.cast('double')) \\\n",
    "    .withColumn(\"HOURLYStationPressure\", translate(col(\"HOURLYStationPressure\"), \"s,\", \"\")) \\\n",
    "    .withColumn(\"HOURLYPrecip\", translate(col(\"HOURLYPrecip\"), \"s,\", \"\")) \\\n",
    "    .withColumn(\"HOURLYRelativeHumidity\", translate(col(\"HOURLYRelativeHumidity\"), \"*\", \"\")) \\\n",
    "    .withColumn(\"HOURLYDRYBULBTEMPC\", translate(col(\"HOURLYDRYBULBTEMPC\"), \"*\", \"\")) \\\n",
    "\n",
    "df_cleaned =   df_cleaned \\\n",
    "                    .withColumn(\"HOURLYStationPressure\", df_cleaned.HOURLYStationPressure.cast('double')) \\\n",
    "                    .withColumn(\"HOURLYPrecip\", df_cleaned.HOURLYPrecip.cast('double')) \\\n",
    "                    .withColumn(\"HOURLYRelativeHumidity\", df_cleaned.HOURLYRelativeHumidity.cast('double')) \\\n",
    "                    .withColumn(\"HOURLYDRYBULBTEMPC\", df_cleaned.HOURLYDRYBULBTEMPC.cast('double')) \\\n",
    "\n",
    "df_filtered = df_cleaned.filter(\"\"\"\n",
    "    HOURLYWindSpeed <> 0\n",
    "    and HOURLYWindSpeed IS NOT NULL\n",
    "    and HOURLYWindDirection IS NOT NULL\n",
    "    and HOURLYStationPressure IS NOT NULL\n",
    "    and HOURLYPressureTendency IS NOT NULL\n",
    "    and HOURLYPrecip IS NOT NULL\n",
    "    and HOURLYRelativeHumidity IS NOT NULL\n",
    "    and HOURLYDRYBULBTEMPC IS NOT NULL\n",
    "\"\"\")"
   ]
  },
  {
   "cell_type": "markdown",
   "metadata": {},
   "source": [
    "We want to predict the value of one column based of some others. It is sometimes helpful to print a correlation matrix."
   ]
  },
  {
   "cell_type": "code",
   "execution_count": 7,
   "metadata": {},
   "outputs": [
    {
     "data": {
      "text/plain": [
       "array([[ 1.        ,  0.25478863, -0.26171147],\n",
       "       [ 0.25478863,  1.        , -0.13377466],\n",
       "       [-0.26171147, -0.13377466,  1.        ]])"
      ]
     },
     "execution_count": 7,
     "metadata": {},
     "output_type": "execute_result"
    }
   ],
   "source": [
    "from pyspark.ml.feature import VectorAssembler\n",
    "\n",
    "vectorAssembler = VectorAssembler(\n",
    "    inputCols=[\"HOURLYWindSpeed\",\"HOURLYWindDirection\",\"HOURLYStationPressure\"],\n",
    "    outputCol=\"features\")\n",
    "\n",
    "df_pipeline = vectorAssembler.transform(df_filtered)\n",
    "\n",
    "from pyspark.ml.stat import Correlation\n",
    "\n",
    "Correlation.corr(df_pipeline,\"features\").head()[0].toArray()"
   ]
  },
  {
   "cell_type": "markdown",
   "metadata": {},
   "source": [
    "As we can see, HOURLYWindSpeed and HOURLYWindDirection correlate with 0.25478863 whereas HOURLYWindSpeed and HOURLYStationPressure correlate with -0.26171147, this is a good sign if we want to predict HOURLYWindSpeed from HOURLYWindDirection and HOURLYStationPressure. Note that the numbers can change over time as we are always working with the latest data. Since this is supervised learning, let’s split our data into train (80%) and test (20%) set."
   ]
  },
  {
   "cell_type": "code",
   "execution_count": 8,
   "metadata": {},
   "outputs": [],
   "source": [
    "splits = df_filtered.randomSplit([0.8, 0.2])\n",
    "df_train = splits[0]\n",
    "df_test = splits[1]"
   ]
  },
  {
   "cell_type": "markdown",
   "metadata": {},
   "source": [
    "Again, we can re-use our feature engineering pipeline"
   ]
  },
  {
   "cell_type": "code",
   "execution_count": 9,
   "metadata": {},
   "outputs": [],
   "source": [
    "from pyspark.ml.feature import StringIndexer, OneHotEncoder\n",
    "from pyspark.ml.linalg import Vectors\n",
    "from pyspark.ml.feature import VectorAssembler\n",
    "from pyspark.ml.feature import Normalizer\n",
    "from pyspark.ml import Pipeline\n",
    "\n",
    "vectorAssembler = VectorAssembler(\n",
    "    inputCols=[\"HOURLYWindDirection\", \"ELEVATION\", \"HOURLYStationPressure\"],\n",
    "    outputCol=\"features\")\n",
    "\n",
    "normalizer = Normalizer(inputCol=\"features\", outputCol=\"features_norm\", p=1.0)"
   ]
  },
  {
   "cell_type": "markdown",
   "metadata": {},
   "source": [
    "Now we define a function for evaluating our regression prediction performance. We’re using RMSE (Root Mean Squared Error) here , the smaller the better…"
   ]
  },
  {
   "cell_type": "code",
   "execution_count": 11,
   "metadata": {},
   "outputs": [],
   "source": [
    "def regression_metrics(prediction):\n",
    "    from pyspark.ml.evaluation import RegressionEvaluator\n",
    "    evaluator = RegressionEvaluator(labelCol=\"HOURLYWindSpeed\", predictionCol=\"prediction\", metricName=\"rmse\")\n",
    "    rmse = evaluator.evaluate(prediction)\n",
    "    print(\"RMSE on test data = %g\" % rmse)"
   ]
  },
  {
   "cell_type": "markdown",
   "metadata": {},
   "source": [
    "Let’s run a linear regression model first for building a baseline."
   ]
  },
  {
   "cell_type": "code",
   "execution_count": 12,
   "metadata": {},
   "outputs": [
    {
     "name": "stdout",
     "output_type": "stream",
     "text": [
      "RMSE on test data = 5.43915\n"
     ]
    }
   ],
   "source": [
    "#LR1\n",
    "\n",
    "from pyspark.ml.regression import LinearRegression\n",
    "\n",
    "lr = LinearRegression(labelCol=\"HOURLYWindSpeed\", featuresCol='features', maxIter=100, regParam=0.0, elasticNetParam=0.0)\n",
    "\n",
    "pipeline = Pipeline(stages=[vectorAssembler, normalizer, lr])\n",
    "\n",
    "model = pipeline.fit(df_train)\n",
    "prediction = model.transform(df_test)\n",
    "regression_metrics(prediction)"
   ]
  },
  {
   "cell_type": "markdown",
   "metadata": {},
   "source": [
    "Now we’ll try a Gradient Boosted Tree Regressor"
   ]
  },
  {
   "cell_type": "code",
   "execution_count": null,
   "metadata": {},
   "outputs": [],
   "source": [
    "#GBT1\n",
    "\n",
    "from pyspark.ml.regression import GBTRegressor\n",
    "\n",
    "gbt = GBTRegressor(labelCol=\"HOURLYWindSpeed\", maxIter=100)\n",
    "\n",
    "pipeline = Pipeline(stages=[vectorAssembler, normalizer, gbt])\n",
    "\n",
    "model = pipeline.fit(df_train)\n",
    "prediction = model.transform(df_test)\n",
    "regression_metrics(prediction)"
   ]
  },
  {
   "cell_type": "markdown",
   "metadata": {},
   "source": [
    "Now let’s switch gears. Previously, we tried to predict HOURLYWindSpeed, but now we predict HOURLYWindDirection. In order to turn this into a classification problem we discretize the value using the Bucketizer. The new feature is called HOURLYWindDirectionBucketized."
   ]
  },
  {
   "cell_type": "code",
   "execution_count": null,
   "metadata": {},
   "outputs": [],
   "source": [
    "from pyspark.ml.feature import Bucketizer, OneHotEncoder\n",
    "\n",
    "bucketizer = Bucketizer(\n",
    "    splits=[ 0, 180, float('Inf') ],\n",
    "    inputCol=\"HOURLYWindDirection\", \n",
    "    outputCol=\"HOURLYWindDirectionBucketized\")\n",
    "\n",
    "encoder = OneHotEncoder(\n",
    "    inputCol=\"HOURLYWindDirectionBucketized\", \n",
    "    outputCol=\"HOURLYWindDirectionOHE\")"
   ]
  },
  {
   "cell_type": "markdown",
   "metadata": {},
   "source": [
    "Again, we define a function in order to assess how we perform. Here we just use the accuracy measure which gives us the fraction of correctly classified examples. Again, 0 is bad, 1 is good."
   ]
  },
  {
   "cell_type": "code",
   "execution_count": null,
   "metadata": {},
   "outputs": [],
   "source": [
    "def classification_metrics(prediction):\n",
    "    from pyspark.ml.evaluation import MulticlassClassificationEvaluator\n",
    "    mcEval = MulticlassClassificationEvaluator().setMetricName(\"accuracy\") .setPredictionCol(\"prediction\").setLabelCol(\"HOURLYWindDirectionBucketized\")\n",
    "    accuracy = mcEval.evaluate(prediction)\n",
    "    print(\"Accuracy on test data = %g\" % accuracy)"
   ]
  },
  {
   "cell_type": "markdown",
   "metadata": {},
   "source": [
    "Again, for baselining we use LogisticRegression."
   ]
  },
  {
   "cell_type": "code",
   "execution_count": null,
   "metadata": {},
   "outputs": [],
   "source": [
    "#LGReg1\n",
    "\n",
    "from pyspark.ml.classification import LogisticRegression\n",
    "\n",
    "lr = LogisticRegression(labelCol=\"HOURLYWindDirectionBucketized\", maxIter=10)\n",
    "\n",
    "#,\"ELEVATION\",\"HOURLYStationPressure\",\"HOURLYPressureTendency\",\"HOURLYPrecip\"\n",
    "\n",
    "vectorAssembler = VectorAssembler(\n",
    "    inputCols=[\"HOURLYWindSpeed\", \"HOURLYDRYBULBTEMPC\"],\n",
    "    outputCol=\"features\")\n",
    "\n",
    "pipeline = Pipeline(stages=[bucketizer, vectorAssembler, normalizer, lr])\n",
    "\n",
    "model = pipeline.fit(df_train)\n",
    "prediction = model.transform(df_test)\n",
    "classification_metrics(prediction)"
   ]
  },
  {
   "cell_type": "markdown",
   "metadata": {},
   "source": [
    "Let’s try some other Algorithms and see if model performance increases. It’s also important to tweak other parameters like parameters of individual algorithms (e.g. number of trees for RandomForest) or parameters in the feature engineering pipeline, e.g. train/test split ratio, normalization, bucketing, …"
   ]
  },
  {
   "cell_type": "code",
   "execution_count": null,
   "metadata": {},
   "outputs": [],
   "source": [
    "#RF1\n",
    "\n",
    "from pyspark.ml.classification import RandomForestClassifier\n",
    "\n",
    "rf = RandomForestClassifier(labelCol=\"HOURLYWindDirectionBucketized\", numTrees=30)\n",
    "\n",
    "vectorAssembler = VectorAssembler(\n",
    "    inputCols=[\"HOURLYWindSpeed\",\"HOURLYDRYBULBTEMPC\",\"ELEVATION\",\"HOURLYStationPressure\",\"HOURLYPressureTendency\",\"HOURLYPrecip\"],\n",
    "    outputCol=\"features\")\n",
    "\n",
    "pipeline = Pipeline(stages=[bucketizer, vectorAssembler, normalizer, rf])\n",
    "\n",
    "model = pipeline.fit(df_train)\n",
    "prediction = model.transform(df_test)\n",
    "classification_metrics(prediction)"
   ]
  },
  {
   "cell_type": "code",
   "execution_count": null,
   "metadata": {},
   "outputs": [],
   "source": [
    "#GBT2\n",
    "\n",
    "from pyspark.ml.classification import GBTClassifier\n",
    "\n",
    "gbt = GBTClassifier(labelCol=\"HOURLYWindDirectionBucketized\", maxIter=100)\n",
    "\n",
    "vectorAssembler = VectorAssembler(\n",
    "    inputCols=[\"HOURLYWindSpeed\",\"HOURLYDRYBULBTEMPC\",\"ELEVATION\",\"HOURLYStationPressure\",\"HOURLYPressureTendency\",\"HOURLYPrecip\"],\n",
    "    outputCol=\"features\")\n",
    "\n",
    "pipeline = Pipeline(stages=[bucketizer,vectorAssembler,normalizer,gbt])\n",
    "\n",
    "model = pipeline.fit(df_train)\n",
    "prediction = model.transform(df_test)\n",
    "classification_metrics(prediction)"
   ]
  },
  {
   "cell_type": "code",
   "execution_count": null,
   "metadata": {},
   "outputs": [],
   "source": []
  }
 ],
 "metadata": {
  "kernelspec": {
   "display_name": "Python",
   "language": "python",
   "name": "conda-env-python-py"
  },
  "language_info": {
   "codemirror_mode": {
    "name": "ipython",
    "version": 3
   },
   "file_extension": ".py",
   "mimetype": "text/x-python",
   "name": "python",
   "nbconvert_exporter": "python",
   "pygments_lexer": "ipython3",
   "version": "3.6.10"
  }
 },
 "nbformat": 4,
 "nbformat_minor": 4
}
