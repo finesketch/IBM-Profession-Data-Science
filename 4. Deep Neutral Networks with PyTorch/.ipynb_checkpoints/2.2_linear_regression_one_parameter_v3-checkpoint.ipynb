{
 "cells": [
  {
   "cell_type": "markdown",
   "metadata": {},
   "source": [
    "<a href=\"http://cocl.us/pytorch_link_top\">\n",
    "    <img src=\"https://s3-api.us-geo.objectstorage.softlayer.net/cf-courses-data/CognitiveClass/DL0110EN/notebook_images%20/Pytochtop.png\" width=\"750\" alt=\"IBM Product \" />\n",
    "</a> "
   ]
  },
  {
   "cell_type": "markdown",
   "metadata": {},
   "source": [
    "<img src=\"https://s3-api.us-geo.objectstorage.softlayer.net/cf-courses-data/CognitiveClass/DL0110EN/notebook_images%20/cc-logo-square.png\" width=\"200\" alt=\"cognitiveclass.ai logo\" />"
   ]
  },
  {
   "cell_type": "markdown",
   "metadata": {},
   "source": [
    "<h1>Linear Regression 1D: Training One Parameter</h1>"
   ]
  },
  {
   "cell_type": "markdown",
   "metadata": {},
   "source": [
    "<h2>Table of Contents</h2>\n",
    "<p>In this lab, you will train a model with PyTorch by using data that you created. The model only has one parameter: the slope.</p>\n",
    "\n",
    "<ul>\n",
    "    <li><a href=\"#Makeup_Data\">Make Some Data</a></li>\n",
    "    <li><a href=\"#Model_Cost\">Create the Model and Cost Function (Total Loss)</a></li>\n",
    "    <li><a href=\"#Train\">Train the Model</a></li>\n",
    "</ul>\n",
    "<p>Estimated Time Needed: <strong>20 min</strong></p>\n",
    "\n",
    "<hr>"
   ]
  },
  {
   "cell_type": "markdown",
   "metadata": {},
   "source": [
    "<h2>Preparation</h2>"
   ]
  },
  {
   "cell_type": "markdown",
   "metadata": {},
   "source": [
    "The following are the libraries we are going to use for this lab."
   ]
  },
  {
   "cell_type": "code",
   "execution_count": 1,
   "metadata": {},
   "outputs": [],
   "source": [
    "# These are the libraries will be used for this lab.\n",
    "\n",
    "import numpy as np\n",
    "import matplotlib.pyplot as plt"
   ]
  },
  {
   "cell_type": "markdown",
   "metadata": {},
   "source": [
    "The class <code>plot_diagram</code> helps us to visualize the data space and the parameter space during training and has nothing to do with PyTorch."
   ]
  },
  {
   "cell_type": "code",
   "execution_count": 2,
   "metadata": {},
   "outputs": [],
   "source": [
    "# The class for plotting\n",
    "\n",
    "class plot_diagram():\n",
    "    \n",
    "    # Constructor\n",
    "    def __init__(self, X, Y, w, stop, go = False):\n",
    "        start = w.data\n",
    "        self.error = []\n",
    "        self.parameter = []\n",
    "        self.X = X.numpy()\n",
    "        self.Y = Y.numpy()\n",
    "        self.parameter_values = torch.arange(start, stop)\n",
    "        self.Loss_function = [criterion(forward(X), Y) for w.data in self.parameter_values] \n",
    "        w.data = start\n",
    "        \n",
    "    # Executor\n",
    "    def __call__(self, Yhat, w, error, n):\n",
    "        self.error.append(error)\n",
    "        self.parameter.append(w.data)\n",
    "        plt.subplot(212)\n",
    "        plt.plot(self.X, Yhat.detach().numpy())\n",
    "        plt.plot(self.X, self.Y,'ro')\n",
    "        plt.xlabel(\"A\")\n",
    "        plt.ylim(-20, 20)\n",
    "        plt.subplot(211)\n",
    "        plt.title(\"Data Space (top) Estimated Line (bottom) Iteration \" + str(n))\n",
    "        plt.plot(self.parameter_values.numpy(), self.Loss_function)   \n",
    "        plt.plot(self.parameter, self.error, 'ro')\n",
    "        plt.xlabel(\"B\")\n",
    "        plt.figure()\n",
    "    \n",
    "    # Destructor\n",
    "    def __del__(self):\n",
    "        plt.close('all')"
   ]
  },
  {
   "cell_type": "markdown",
   "metadata": {},
   "source": [
    "<!--Empty Space for separating topics-->"
   ]
  },
  {
   "cell_type": "markdown",
   "metadata": {},
   "source": [
    "<h2 id=\"Makeup_Data\">Make Some Data</h2>"
   ]
  },
  {
   "cell_type": "markdown",
   "metadata": {},
   "source": [
    "Import PyTorch library:"
   ]
  },
  {
   "cell_type": "code",
   "execution_count": 3,
   "metadata": {},
   "outputs": [],
   "source": [
    "# Import the library PyTorch\n",
    "\n",
    "import torch"
   ]
  },
  {
   "cell_type": "markdown",
   "metadata": {},
   "source": [
    "Generate values from -3 to 3 that create a line with a slope of -3. This is the line you will estimate."
   ]
  },
  {
   "cell_type": "code",
   "execution_count": 4,
   "metadata": {},
   "outputs": [
    {
     "data": {
      "text/plain": [
       "tensor([-3.0000, -2.9000, -2.8000, -2.7000, -2.6000, -2.5000, -2.4000, -2.3000,\n",
       "        -2.2000, -2.1000, -2.0000, -1.9000, -1.8000, -1.7000, -1.6000, -1.5000,\n",
       "        -1.4000, -1.3000, -1.2000, -1.1000, -1.0000, -0.9000, -0.8000, -0.7000,\n",
       "        -0.6000, -0.5000, -0.4000, -0.3000, -0.2000, -0.1000,  0.0000,  0.1000,\n",
       "         0.2000,  0.3000,  0.4000,  0.5000,  0.6000,  0.7000,  0.8000,  0.9000,\n",
       "         1.0000,  1.1000,  1.2000,  1.3000,  1.4000,  1.5000,  1.6000,  1.7000,\n",
       "         1.8000,  1.9000,  2.0000,  2.1000,  2.2000,  2.3000,  2.4000,  2.5000,\n",
       "         2.6000,  2.7000,  2.8000,  2.9000])"
      ]
     },
     "execution_count": 4,
     "metadata": {},
     "output_type": "execute_result"
    }
   ],
   "source": [
    "# Create the f(X) with a slope of -3\n",
    "\n",
    "X = torch.arange(-3, 3, 0.1)\n",
    "X"
   ]
  },
  {
   "cell_type": "code",
   "execution_count": 5,
   "metadata": {},
   "outputs": [
    {
     "data": {
      "text/plain": [
       "tensor([[-3.0000],\n",
       "        [-2.9000],\n",
       "        [-2.8000],\n",
       "        [-2.7000],\n",
       "        [-2.6000],\n",
       "        [-2.5000],\n",
       "        [-2.4000],\n",
       "        [-2.3000],\n",
       "        [-2.2000],\n",
       "        [-2.1000],\n",
       "        [-2.0000],\n",
       "        [-1.9000],\n",
       "        [-1.8000],\n",
       "        [-1.7000],\n",
       "        [-1.6000],\n",
       "        [-1.5000],\n",
       "        [-1.4000],\n",
       "        [-1.3000],\n",
       "        [-1.2000],\n",
       "        [-1.1000],\n",
       "        [-1.0000],\n",
       "        [-0.9000],\n",
       "        [-0.8000],\n",
       "        [-0.7000],\n",
       "        [-0.6000],\n",
       "        [-0.5000],\n",
       "        [-0.4000],\n",
       "        [-0.3000],\n",
       "        [-0.2000],\n",
       "        [-0.1000],\n",
       "        [ 0.0000],\n",
       "        [ 0.1000],\n",
       "        [ 0.2000],\n",
       "        [ 0.3000],\n",
       "        [ 0.4000],\n",
       "        [ 0.5000],\n",
       "        [ 0.6000],\n",
       "        [ 0.7000],\n",
       "        [ 0.8000],\n",
       "        [ 0.9000],\n",
       "        [ 1.0000],\n",
       "        [ 1.1000],\n",
       "        [ 1.2000],\n",
       "        [ 1.3000],\n",
       "        [ 1.4000],\n",
       "        [ 1.5000],\n",
       "        [ 1.6000],\n",
       "        [ 1.7000],\n",
       "        [ 1.8000],\n",
       "        [ 1.9000],\n",
       "        [ 2.0000],\n",
       "        [ 2.1000],\n",
       "        [ 2.2000],\n",
       "        [ 2.3000],\n",
       "        [ 2.4000],\n",
       "        [ 2.5000],\n",
       "        [ 2.6000],\n",
       "        [ 2.7000],\n",
       "        [ 2.8000],\n",
       "        [ 2.9000]])"
      ]
     },
     "execution_count": 5,
     "metadata": {},
     "output_type": "execute_result"
    }
   ],
   "source": [
    "X = X.view(-1, 1)\n",
    "X"
   ]
  },
  {
   "cell_type": "code",
   "execution_count": 6,
   "metadata": {},
   "outputs": [],
   "source": [
    "f = -3 * X"
   ]
  },
  {
   "cell_type": "code",
   "execution_count": 7,
   "metadata": {},
   "outputs": [
    {
     "data": {
      "text/plain": [
       "tensor([[ 9.0000],\n",
       "        [ 8.7000],\n",
       "        [ 8.4000],\n",
       "        [ 8.1000],\n",
       "        [ 7.8000],\n",
       "        [ 7.5000],\n",
       "        [ 7.2000],\n",
       "        [ 6.9000],\n",
       "        [ 6.6000],\n",
       "        [ 6.3000],\n",
       "        [ 6.0000],\n",
       "        [ 5.7000],\n",
       "        [ 5.4000],\n",
       "        [ 5.1000],\n",
       "        [ 4.8000],\n",
       "        [ 4.5000],\n",
       "        [ 4.2000],\n",
       "        [ 3.9000],\n",
       "        [ 3.6000],\n",
       "        [ 3.3000],\n",
       "        [ 3.0000],\n",
       "        [ 2.7000],\n",
       "        [ 2.4000],\n",
       "        [ 2.1000],\n",
       "        [ 1.8000],\n",
       "        [ 1.5000],\n",
       "        [ 1.2000],\n",
       "        [ 0.9000],\n",
       "        [ 0.6000],\n",
       "        [ 0.3000],\n",
       "        [-0.0000],\n",
       "        [-0.3000],\n",
       "        [-0.6000],\n",
       "        [-0.9000],\n",
       "        [-1.2000],\n",
       "        [-1.5000],\n",
       "        [-1.8000],\n",
       "        [-2.1000],\n",
       "        [-2.4000],\n",
       "        [-2.7000],\n",
       "        [-3.0000],\n",
       "        [-3.3000],\n",
       "        [-3.6000],\n",
       "        [-3.9000],\n",
       "        [-4.2000],\n",
       "        [-4.5000],\n",
       "        [-4.8000],\n",
       "        [-5.1000],\n",
       "        [-5.4000],\n",
       "        [-5.7000],\n",
       "        [-6.0000],\n",
       "        [-6.3000],\n",
       "        [-6.6000],\n",
       "        [-6.9000],\n",
       "        [-7.2000],\n",
       "        [-7.5000],\n",
       "        [-7.8000],\n",
       "        [-8.1000],\n",
       "        [-8.4000],\n",
       "        [-8.7000]])"
      ]
     },
     "execution_count": 7,
     "metadata": {},
     "output_type": "execute_result"
    }
   ],
   "source": [
    "f"
   ]
  },
  {
   "cell_type": "markdown",
   "metadata": {},
   "source": [
    "Let us plot the line."
   ]
  },
  {
   "cell_type": "code",
   "execution_count": 8,
   "metadata": {},
   "outputs": [
    {
     "data": {
      "image/png": "[encoded data removed]",
      "text/plain": [
       "<Figure size 432x288 with 1 Axes>"
      ]
     },
     "metadata": {
      "needs_background": "light"
     },
     "output_type": "display_data"
    }
   ],
   "source": [
    "# Plot the line with blue\n",
    "\n",
    "plt.plot(X.numpy(), f.numpy(), label = 'f')\n",
    "plt.xlabel('x')\n",
    "plt.ylabel('y')\n",
    "plt.legend()\n",
    "plt.show()"
   ]
  },
  {
   "cell_type": "markdown",
   "metadata": {},
   "source": [
    "Let us add some noise to the data in order to simulate the real data. Use <code>torch.randn(X.size())</code> to generate Gaussian noise that is the same size as <code>X</code> and has a standard deviation opf 0.1."
   ]
  },
  {
   "cell_type": "code",
   "execution_count": 9,
   "metadata": {},
   "outputs": [
    {
     "data": {
      "text/plain": [
       "tensor([[ 8.8940],\n",
       "        [ 8.8023],\n",
       "        [ 8.4535],\n",
       "        [ 8.1730],\n",
       "        [ 7.8032],\n",
       "        [ 7.4986],\n",
       "        [ 7.1378],\n",
       "        [ 6.8519],\n",
       "        [ 6.6194],\n",
       "        [ 6.4789],\n",
       "        [ 5.9989],\n",
       "        [ 5.7966],\n",
       "        [ 5.4646],\n",
       "        [ 5.2357],\n",
       "        [ 4.7533],\n",
       "        [ 4.4528],\n",
       "        [ 4.2167],\n",
       "        [ 3.8713],\n",
       "        [ 3.7285],\n",
       "        [ 3.4028],\n",
       "        [ 2.9452],\n",
       "        [ 2.6572],\n",
       "        [ 2.4073],\n",
       "        [ 2.1019],\n",
       "        [ 1.7816],\n",
       "        [ 1.4719],\n",
       "        [ 1.2958],\n",
       "        [ 1.0632],\n",
       "        [ 0.4467],\n",
       "        [ 0.4200],\n",
       "        [ 0.0283],\n",
       "        [-0.2195],\n",
       "        [-0.6409],\n",
       "        [-0.7922],\n",
       "        [-1.1348],\n",
       "        [-1.5859],\n",
       "        [-1.8020],\n",
       "        [-2.3130],\n",
       "        [-2.5049],\n",
       "        [-2.8103],\n",
       "        [-3.0851],\n",
       "        [-3.3570],\n",
       "        [-3.6038],\n",
       "        [-3.7867],\n",
       "        [-4.2603],\n",
       "        [-4.5486],\n",
       "        [-4.8606],\n",
       "        [-5.0547],\n",
       "        [-5.3781],\n",
       "        [-5.5580],\n",
       "        [-5.9460],\n",
       "        [-6.2375],\n",
       "        [-6.7400],\n",
       "        [-6.8553],\n",
       "        [-7.3238],\n",
       "        [-7.6238],\n",
       "        [-7.7841],\n",
       "        [-8.1656],\n",
       "        [-8.5694],\n",
       "        [-8.7728]])"
      ]
     },
     "execution_count": 9,
     "metadata": {},
     "output_type": "execute_result"
    }
   ],
   "source": [
    "# Add some noise to f(X) and save it in Y\n",
    "\n",
    "Y = f + 0.1 * torch.randn(X.size())\n",
    "Y"
   ]
  },
  {
   "cell_type": "markdown",
   "metadata": {},
   "source": [
    "Plot the <code>Y</code>: "
   ]
  },
  {
   "cell_type": "code",
   "execution_count": 10,
   "metadata": {},
   "outputs": [
    {
     "data": {
      "image/png": "[encoded data removed]",
      "text/plain": [
       "<Figure size 432x288 with 1 Axes>"
      ]
     },
     "metadata": {
      "needs_background": "light"
     },
     "output_type": "display_data"
    }
   ],
   "source": [
    "# Plot the data points\n",
    "\n",
    "plt.plot(X.numpy(), Y.numpy(), 'rx', label = 'Y')\n",
    "\n",
    "plt.plot(X.numpy(), f.numpy(), label = 'f')\n",
    "plt.xlabel('x')\n",
    "plt.ylabel('y')\n",
    "plt.legend()\n",
    "plt.show()"
   ]
  },
  {
   "cell_type": "markdown",
   "metadata": {},
   "source": [
    "<!--Empty Space for separating topics-->"
   ]
  },
  {
   "cell_type": "markdown",
   "metadata": {},
   "source": [
    "<h2 id=\"Model_Cost\">Create the Model and Cost Function (Total Loss)</h2>"
   ]
  },
  {
   "cell_type": "markdown",
   "metadata": {},
   "source": [
    "In this section, let us create the model and the cost function (total loss) we are going to use to train the model and evaluate the result."
   ]
  },
  {
   "cell_type": "markdown",
   "metadata": {},
   "source": [
    "First, define the <code>forward</code> function $y=w*x$. (We will add the bias in the next lab.)"
   ]
  },
  {
   "cell_type": "code",
   "execution_count": 11,
   "metadata": {},
   "outputs": [],
   "source": [
    "# Create forward function for prediction\n",
    "\n",
    "def forward(x):\n",
    "    return w * x"
   ]
  },
  {
   "cell_type": "markdown",
   "metadata": {},
   "source": [
    "Define the cost or criterion function using MSE (Mean Square Error): "
   ]
  },
  {
   "cell_type": "code",
   "execution_count": 12,
   "metadata": {},
   "outputs": [],
   "source": [
    "# Create the MSE function for evaluate the result.\n",
    "\n",
    "def criterion(yhat, y):\n",
    "    return torch.mean((yhat - y) ** 2)"
   ]
  },
  {
   "cell_type": "markdown",
   "metadata": {},
   "source": [
    "Define the learning rate <code>lr</code> and an empty list <code>LOSS</code> to record the loss for each iteration:   "
   ]
  },
  {
   "cell_type": "code",
   "execution_count": 13,
   "metadata": {},
   "outputs": [],
   "source": [
    "# Create Learning Rate and an empty list to record the loss for each iteration\n",
    "\n",
    "lr = 0.1\n",
    "LOSS = []"
   ]
  },
  {
   "cell_type": "markdown",
   "metadata": {},
   "source": [
    "Now, we create a model parameter by setting the argument <code>requires_grad</code> to <code> True</code> because the system must learn it."
   ]
  },
  {
   "cell_type": "code",
   "execution_count": 14,
   "metadata": {},
   "outputs": [
    {
     "data": {
      "text/plain": [
       "tensor(-10., requires_grad=True)"
      ]
     },
     "execution_count": 14,
     "metadata": {},
     "output_type": "execute_result"
    }
   ],
   "source": [
    "w = torch.tensor(-10.0, requires_grad = True)\n",
    "w"
   ]
  },
  {
   "cell_type": "code",
   "execution_count": 15,
   "metadata": {},
   "outputs": [
    {
     "data": {
      "text/plain": [
       "tensor(-10.)"
      ]
     },
     "execution_count": 15,
     "metadata": {},
     "output_type": "execute_result"
    }
   ],
   "source": [
    "w.data"
   ]
  },
  {
   "cell_type": "markdown",
   "metadata": {},
   "source": [
    "Create a <code>plot_diagram</code> object to visualize the data space and the parameter space for each iteration during training:"
   ]
  },
  {
   "cell_type": "code",
   "execution_count": 16,
   "metadata": {},
   "outputs": [],
   "source": [
    "gradient_plot = plot_diagram(X, Y, w, stop = 5)"
   ]
  },
  {
   "cell_type": "markdown",
   "metadata": {},
   "source": [
    "<!--Empty Space for separating topics-->"
   ]
  },
  {
   "cell_type": "markdown",
   "metadata": {},
   "source": [
    "<h2 id=\"Train\">Train the Model</h2>"
   ]
  },
  {
   "cell_type": "markdown",
   "metadata": {},
   "source": [
    "Let us define a function for training the model. The steps will be described in the comments."
   ]
  },
  {
   "cell_type": "code",
   "execution_count": 23,
   "metadata": {},
   "outputs": [],
   "source": [
    "# Define a function for train the model\n",
    "\n",
    "def train_model(iter):\n",
    "    for epoch in range (iter):\n",
    "        \n",
    "        # make the prediction as we learned in the last lab\n",
    "        Yhat = forward(X)\n",
    "        \n",
    "        # calculate the iteration\n",
    "        loss = criterion(Yhat,Y)\n",
    "        \n",
    "        # plot the diagram for us to have a better idea\n",
    "        gradient_plot(Yhat, w, loss.item(), epoch)\n",
    "        \n",
    "        # store the loss into list\n",
    "        print(\"Yhat: \" + str(Yhat))\n",
    "        print(\"loss.item(): \" + str(loss.item()))\n",
    "        LOSS.append(loss.item())\n",
    "        \n",
    "        # backward pass: compute gradient of the loss with respect to all the learnable parameters\n",
    "        loss.backward()\n",
    "        \n",
    "        # updata parameters\n",
    "        w.data = w.data - lr * w.grad.data\n",
    "        \n",
    "        # zero the gradients before running the backward pass\n",
    "        w.grad.data.zero_()"
   ]
  },
  {
   "cell_type": "markdown",
   "metadata": {},
   "source": [
    "Let us try to run 4 iterations of gradient descent:  "
   ]
  },
  {
   "cell_type": "code",
   "execution_count": 24,
   "metadata": {},
   "outputs": [
    {
     "name": "stdout",
     "output_type": "stream",
     "text": [
      "Yhat: tensor([[ 9.0581],\n",
      "        [ 8.7561],\n",
      "        [ 8.4542],\n",
      "        [ 8.1523],\n",
      "        [ 7.8503],\n",
      "        [ 7.5484],\n",
      "        [ 7.2465],\n",
      "        [ 6.9445],\n",
      "        [ 6.6426],\n",
      "        [ 6.3407],\n",
      "        [ 6.0387],\n",
      "        [ 5.7368],\n",
      "        [ 5.4348],\n",
      "        [ 5.1329],\n",
      "        [ 4.8310],\n",
      "        [ 4.5290],\n",
      "        [ 4.2271],\n",
      "        [ 3.9252],\n",
      "        [ 3.6232],\n",
      "        [ 3.3213],\n",
      "        [ 3.0194],\n",
      "        [ 2.7174],\n",
      "        [ 2.4155],\n",
      "        [ 2.1136],\n",
      "        [ 1.8116],\n",
      "        [ 1.5097],\n",
      "        [ 1.2077],\n",
      "        [ 0.9058],\n",
      "        [ 0.6039],\n",
      "        [ 0.3019],\n",
      "        [-0.0000],\n",
      "        [-0.3019],\n",
      "        [-0.6039],\n",
      "        [-0.9058],\n",
      "        [-1.2077],\n",
      "        [-1.5097],\n",
      "        [-1.8116],\n",
      "        [-2.1136],\n",
      "        [-2.4155],\n",
      "        [-2.7174],\n",
      "        [-3.0194],\n",
      "        [-3.3213],\n",
      "        [-3.6232],\n",
      "        [-3.9252],\n",
      "        [-4.2271],\n",
      "        [-4.5290],\n",
      "        [-4.8310],\n",
      "        [-5.1329],\n",
      "        [-5.4348],\n",
      "        [-5.7368],\n",
      "        [-6.0387],\n",
      "        [-6.3407],\n",
      "        [-6.6426],\n",
      "        [-6.9445],\n",
      "        [-7.2465],\n",
      "        [-7.5484],\n",
      "        [-7.8503],\n",
      "        [-8.1523],\n",
      "        [-8.4542],\n",
      "        [-8.7561]], grad_fn=<MulBackward0>)\n",
      "loss.item(): 0.007183527573943138\n",
      "Yhat: tensor([[ 9.0499],\n",
      "        [ 8.7482],\n",
      "        [ 8.4466],\n",
      "        [ 8.1449],\n",
      "        [ 7.8432],\n",
      "        [ 7.5416],\n",
      "        [ 7.2399],\n",
      "        [ 6.9382],\n",
      "        [ 6.6366],\n",
      "        [ 6.3349],\n",
      "        [ 6.0333],\n",
      "        [ 5.7316],\n",
      "        [ 5.4299],\n",
      "        [ 5.1283],\n",
      "        [ 4.8266],\n",
      "        [ 4.5249],\n",
      "        [ 4.2233],\n",
      "        [ 3.9216],\n",
      "        [ 3.6200],\n",
      "        [ 3.3183],\n",
      "        [ 3.0166],\n",
      "        [ 2.7150],\n",
      "        [ 2.4133],\n",
      "        [ 2.1116],\n",
      "        [ 1.8100],\n",
      "        [ 1.5083],\n",
      "        [ 1.2067],\n",
      "        [ 0.9050],\n",
      "        [ 0.6033],\n",
      "        [ 0.3017],\n",
      "        [-0.0000],\n",
      "        [-0.3017],\n",
      "        [-0.6033],\n",
      "        [-0.9050],\n",
      "        [-1.2067],\n",
      "        [-1.5083],\n",
      "        [-1.8100],\n",
      "        [-2.1116],\n",
      "        [-2.4133],\n",
      "        [-2.7150],\n",
      "        [-3.0166],\n",
      "        [-3.3183],\n",
      "        [-3.6200],\n",
      "        [-3.9216],\n",
      "        [-4.2233],\n",
      "        [-4.5249],\n",
      "        [-4.8266],\n",
      "        [-5.1283],\n",
      "        [-5.4299],\n",
      "        [-5.7316],\n",
      "        [-6.0333],\n",
      "        [-6.3349],\n",
      "        [-6.6366],\n",
      "        [-6.9382],\n",
      "        [-7.2399],\n",
      "        [-7.5416],\n",
      "        [-7.8432],\n",
      "        [-8.1449],\n",
      "        [-8.4466],\n",
      "        [-8.7482]], grad_fn=<MulBackward0>)\n",
      "loss.item(): 0.007131372112780809\n",
      "Yhat: tensor([[ 9.0466],\n",
      "        [ 8.7451],\n",
      "        [ 8.4435],\n",
      "        [ 8.1420],\n",
      "        [ 7.8404],\n",
      "        [ 7.5388],\n",
      "        [ 7.2373],\n",
      "        [ 6.9357],\n",
      "        [ 6.6342],\n",
      "        [ 6.3326],\n",
      "        [ 6.0311],\n",
      "        [ 5.7295],\n",
      "        [ 5.4280],\n",
      "        [ 5.1264],\n",
      "        [ 4.8249],\n",
      "        [ 4.5233],\n",
      "        [ 4.2218],\n",
      "        [ 3.9202],\n",
      "        [ 3.6186],\n",
      "        [ 3.3171],\n",
      "        [ 3.0155],\n",
      "        [ 2.7140],\n",
      "        [ 2.4124],\n",
      "        [ 2.1109],\n",
      "        [ 1.8093],\n",
      "        [ 1.5078],\n",
      "        [ 1.2062],\n",
      "        [ 0.9047],\n",
      "        [ 0.6031],\n",
      "        [ 0.3016],\n",
      "        [-0.0000],\n",
      "        [-0.3016],\n",
      "        [-0.6031],\n",
      "        [-0.9047],\n",
      "        [-1.2062],\n",
      "        [-1.5078],\n",
      "        [-1.8093],\n",
      "        [-2.1109],\n",
      "        [-2.4124],\n",
      "        [-2.7140],\n",
      "        [-3.0155],\n",
      "        [-3.3171],\n",
      "        [-3.6186],\n",
      "        [-3.9202],\n",
      "        [-4.2218],\n",
      "        [-4.5233],\n",
      "        [-4.8249],\n",
      "        [-5.1264],\n",
      "        [-5.4280],\n",
      "        [-5.7295],\n",
      "        [-6.0311],\n",
      "        [-6.3326],\n",
      "        [-6.6342],\n",
      "        [-6.9357],\n",
      "        [-7.2373],\n",
      "        [-7.5388],\n",
      "        [-7.8404],\n",
      "        [-8.1420],\n",
      "        [-8.4435],\n",
      "        [-8.7451]], grad_fn=<MulBackward0>)\n",
      "loss.item(): 0.007123042829334736\n",
      "Yhat: tensor([[ 9.0453],\n",
      "        [ 8.7438],\n",
      "        [ 8.4423],\n",
      "        [ 8.1408],\n",
      "        [ 7.8393],\n",
      "        [ 7.5378],\n",
      "        [ 7.2362],\n",
      "        [ 6.9347],\n",
      "        [ 6.6332],\n",
      "        [ 6.3317],\n",
      "        [ 6.0302],\n",
      "        [ 5.7287],\n",
      "        [ 5.4272],\n",
      "        [ 5.1257],\n",
      "        [ 4.8242],\n",
      "        [ 4.5227],\n",
      "        [ 4.2211],\n",
      "        [ 3.9196],\n",
      "        [ 3.6181],\n",
      "        [ 3.3166],\n",
      "        [ 3.0151],\n",
      "        [ 2.7136],\n",
      "        [ 2.4121],\n",
      "        [ 2.1106],\n",
      "        [ 1.8091],\n",
      "        [ 1.5076],\n",
      "        [ 1.2060],\n",
      "        [ 0.9045],\n",
      "        [ 0.6030],\n",
      "        [ 0.3015],\n",
      "        [-0.0000],\n",
      "        [-0.3015],\n",
      "        [-0.6030],\n",
      "        [-0.9045],\n",
      "        [-1.2060],\n",
      "        [-1.5076],\n",
      "        [-1.8091],\n",
      "        [-2.1106],\n",
      "        [-2.4121],\n",
      "        [-2.7136],\n",
      "        [-3.0151],\n",
      "        [-3.3166],\n",
      "        [-3.6181],\n",
      "        [-3.9196],\n",
      "        [-4.2211],\n",
      "        [-4.5227],\n",
      "        [-4.8242],\n",
      "        [-5.1257],\n",
      "        [-5.4272],\n",
      "        [-5.7287],\n",
      "        [-6.0302],\n",
      "        [-6.3317],\n",
      "        [-6.6332],\n",
      "        [-6.9347],\n",
      "        [-7.2362],\n",
      "        [-7.5378],\n",
      "        [-7.8393],\n",
      "        [-8.1408],\n",
      "        [-8.4423],\n",
      "        [-8.7438]], grad_fn=<MulBackward0>)\n",
      "loss.item(): 0.007121706381440163\n"
     ]
    },
    {
     "data": {
      "image/png": "[encoded data removed]",
      "text/plain": [
       "<Figure size 432x288 with 2 Axes>"
      ]
     },
     "metadata": {
      "needs_background": "light"
     },
     "output_type": "display_data"
    },
    {
     "data": {
      "image/png": "[encoded data removed]",
      "text/plain": [
       "<Figure size 432x288 with 2 Axes>"
      ]
     },
     "metadata": {
      "needs_background": "light"
     },
     "output_type": "display_data"
    },
    {
     "data": {
      "image/png": "[encoded data removed]",
      "text/plain": [
       "<Figure size 432x288 with 2 Axes>"
      ]
     },
     "metadata": {
      "needs_background": "light"
     },
     "output_type": "display_data"
    },
    {
     "data": {
      "image/png": "[encoded data removed]",
      "text/plain": [
       "<Figure size 432x288 with 2 Axes>"
      ]
     },
     "metadata": {
      "needs_background": "light"
     },
     "output_type": "display_data"
    },
    {
     "data": {
      "text/plain": [
       "<Figure size 432x288 with 0 Axes>"
      ]
     },
     "metadata": {},
     "output_type": "display_data"
    }
   ],
   "source": [
    "# Give 4 iterations for training the model here.\n",
    "\n",
    "train_model(4)"
   ]
  },
  {
   "cell_type": "markdown",
   "metadata": {},
   "source": [
    "Plot the cost for each iteration: "
   ]
  },
  {
   "cell_type": "code",
   "execution_count": 19,
   "metadata": {},
   "outputs": [
    {
     "data": {
      "text/plain": [
       "Text(23.875, 0.5, 'Cost')"
      ]
     },
     "execution_count": 19,
     "metadata": {},
     "output_type": "execute_result"
    },
    {
     "data": {
      "image/png": "[encoded data removed]",
      "text/plain": [
       "<Figure size 432x288 with 1 Axes>"
      ]
     },
     "metadata": {
      "needs_background": "light"
     },
     "output_type": "display_data"
    }
   ],
   "source": [
    "# Plot the loss for each iteration\n",
    "\n",
    "plt.plot(LOSS)\n",
    "plt.tight_layout()\n",
    "plt.xlabel(\"Epoch/Iterations\")\n",
    "plt.ylabel(\"Cost\")"
   ]
  },
  {
   "cell_type": "markdown",
   "metadata": {},
   "source": [
    "<!--Empty Space for separating topics-->"
   ]
  },
  {
   "cell_type": "markdown",
   "metadata": {},
   "source": [
    "<h3>Practice</h3>"
   ]
  },
  {
   "cell_type": "markdown",
   "metadata": {},
   "source": [
    "Create a new learnable parameter <code>w</code> with an initial value of -15.0."
   ]
  },
  {
   "cell_type": "code",
   "execution_count": 25,
   "metadata": {},
   "outputs": [],
   "source": [
    "# Practice: Create w with the inital value of -15.0\n",
    "\n",
    "# Type your code here\n",
    "w = torch.tensor(-15.0, requires_grad=True)"
   ]
  },
  {
   "cell_type": "markdown",
   "metadata": {},
   "source": [
    "Double-click <b>here</b> for the solution.\n",
    "<!-- Your answer is below:\n",
    "w = torch.tensor(-15.0, requires_grad=True)\n",
    "-->"
   ]
  },
  {
   "cell_type": "markdown",
   "metadata": {},
   "source": [
    "<!--Empty Space for separating topics-->"
   ]
  },
  {
   "cell_type": "markdown",
   "metadata": {},
   "source": [
    "Create an empty list <code>LOSS2</code>:"
   ]
  },
  {
   "cell_type": "code",
   "execution_count": 26,
   "metadata": {},
   "outputs": [],
   "source": [
    "# Practice: Create LOSS2 list\n",
    "\n",
    "# Type your code here\n",
    "LOSS2 = []"
   ]
  },
  {
   "cell_type": "markdown",
   "metadata": {},
   "source": [
    "Double-click <b>here</b> for the solution.\n",
    "<!-- Your answer is below:\n",
    "LOSS2 = []\n",
    "-->"
   ]
  },
  {
   "cell_type": "markdown",
   "metadata": {},
   "source": [
    "<!--Empty Space for separating topics-->"
   ]
  },
  {
   "cell_type": "markdown",
   "metadata": {},
   "source": [
    "Write your own <code>my_train_model</code> function with loss list <code>LOSS2</code>. And run it with 4 iterations."
   ]
  },
  {
   "cell_type": "code",
   "execution_count": 27,
   "metadata": {},
   "outputs": [
    {
     "data": {
      "image/png": "[encoded data removed]",
      "text/plain": [
       "<Figure size 432x288 with 2 Axes>"
      ]
     },
     "metadata": {
      "needs_background": "light"
     },
     "output_type": "display_data"
    },
    {
     "data": {
      "image/png": "[encoded data removed]",
      "text/plain": [
       "<Figure size 432x288 with 2 Axes>"
      ]
     },
     "metadata": {
      "needs_background": "light"
     },
     "output_type": "display_data"
    },
    {
     "data": {
      "image/png": "[encoded data removed]",
      "text/plain": [
       "<Figure size 432x288 with 2 Axes>"
      ]
     },
     "metadata": {
      "needs_background": "light"
     },
     "output_type": "display_data"
    },
    {
     "data": {
      "image/png": "[encoded data removed]",
      "text/plain": [
       "<Figure size 432x288 with 2 Axes>"
      ]
     },
     "metadata": {
      "needs_background": "light"
     },
     "output_type": "display_data"
    },
    {
     "data": {
      "text/plain": [
       "<Figure size 432x288 with 0 Axes>"
      ]
     },
     "metadata": {},
     "output_type": "display_data"
    }
   ],
   "source": [
    "# Practice: Create your own my_train_model\n",
    "\n",
    "gradient_plot1 = plot_diagram(X, Y, w, stop = 15)\n",
    "\n",
    "def my_train_model(iter):\n",
    "    for epoch in range (iter):\n",
    "        Yhat = forward(X)\n",
    "        loss = criterion(Yhat,Y)\n",
    "        gradient_plot1(Yhat, w, loss.item(), epoch)\n",
    "        LOSS2.append(loss)\n",
    "        loss.backward()\n",
    "        w.data = w.data - lr * w.grad.data\n",
    "        w.grad.data.zero_()\n",
    "\n",
    "my_train_model(4)"
   ]
  },
  {
   "cell_type": "markdown",
   "metadata": {},
   "source": [
    "Double-click <b>here</b> for the solution.\n",
    "\n",
    "<!-- Your answer is below:\n",
    "\n",
    "def my_train_model(iter):\n",
    "    for epoch in range (iter):\n",
    "        Yhat = forward(X)\n",
    "        loss = criterion(Yhat,Y)\n",
    "        gradient_plot1(Yhat, w, loss.item(), epoch)\n",
    "        LOSS2.append(loss)\n",
    "        loss.backward()\n",
    "        w.data = w.data - lr * w.grad.data\n",
    "        w.grad.data.zero_()\n",
    "my_train_model(4)\n",
    "    -->"
   ]
  },
  {
   "cell_type": "markdown",
   "metadata": {},
   "source": [
    "<!--Empty Space for separating topics-->"
   ]
  },
  {
   "cell_type": "markdown",
   "metadata": {},
   "source": [
    "Plot an overlay of the list <code>LOSS2</code> and <code>LOSS</code>. "
   ]
  },
  {
   "cell_type": "code",
   "execution_count": 23,
   "metadata": {},
   "outputs": [
    {
     "data": {
      "text/plain": [
       "<matplotlib.legend.Legend at 0x7fdf85c91390>"
      ]
     },
     "execution_count": 23,
     "metadata": {},
     "output_type": "execute_result"
    },
    {
     "data": {
      "image/png": "[encoded data removed]",
      "text/plain": [
       "<Figure size 432x288 with 1 Axes>"
      ]
     },
     "metadata": {
      "needs_background": "light"
     },
     "output_type": "display_data"
    }
   ],
   "source": [
    "# Practice: Plot the list LOSS2 and LOSS\n",
    "\n",
    "# Type your code here\n",
    "plt.plot(LOSS, label = \"LOSS\")\n",
    "plt.plot(LOSS2, label = \"LOSS2\")\n",
    "plt.tight_layout()\n",
    "plt.xlabel(\"Epoch/Iterations\")\n",
    "plt.ylabel(\"Cost\")\n",
    "plt.legend()"
   ]
  },
  {
   "cell_type": "markdown",
   "metadata": {},
   "source": [
    "Double-click <b>here</b> for the solution.\n",
    "\n",
    "<!-- Your answer is below:\n",
    "plt.plot(LOSS, label = \"LOSS\")\n",
    "plt.plot(LOSS2, label = \"LOSS2\")\n",
    "plt.tight_layout()\n",
    "plt.xlabel(\"Epoch/Iterations\")\n",
    "plt.ylabel(\"Cost\")\n",
    "plt.legend()\n",
    "-->"
   ]
  },
  {
   "cell_type": "markdown",
   "metadata": {},
   "source": [
    "<!--Empty Space for separating topics-->"
   ]
  },
  {
   "cell_type": "markdown",
   "metadata": {},
   "source": [
    "What does this tell you about the parameter value? "
   ]
  },
  {
   "cell_type": "markdown",
   "metadata": {},
   "source": [
    "Double-click <b>here</b> for the solution.\n",
    "\n",
    "<!-- Your answer is below:\n",
    "the parameter value is sensitive to initialization  \n",
    "    -->"
   ]
  },
  {
   "cell_type": "markdown",
   "metadata": {},
   "source": [
    "<!--Empty Space for separating topics-->"
   ]
  },
  {
   "cell_type": "markdown",
   "metadata": {},
   "source": [
    "<a href=\"http://cocl.us/pytorch_link_bottom\">\n",
    "    <img src=\"https://s3-api.us-geo.objectstorage.softlayer.net/cf-courses-data/CognitiveClass/DL0110EN/notebook_images%20/notebook_bottom%20.png\" width=\"750\" alt=\"PyTorch Bottom\" />\n",
    "</a>"
   ]
  },
  {
   "cell_type": "markdown",
   "metadata": {},
   "source": [
    "<h2>About the Authors:</h2> \n",
    "\n",
    "<a href=\"https://www.linkedin.com/in/joseph-s-50398b136/\">Joseph Santarcangelo</a> has a PhD in Electrical Engineering, his research focused on using machine learning, signal processing, and computer vision to determine how videos impact human cognition. Joseph has been working for IBM since he completed his PhD."
   ]
  },
  {
   "cell_type": "markdown",
   "metadata": {},
   "source": [
    "Other contributors: <a href=\"https://www.linkedin.com/in/michelleccarey/\">Michelle Carey</a>, <a href=\"www.linkedin.com/in/jiahui-mavis-zhou-a4537814a\">Mavis Zhou</a> "
   ]
  },
  {
   "cell_type": "markdown",
   "metadata": {},
   "source": [
    "<hr>"
   ]
  },
  {
   "cell_type": "markdown",
   "metadata": {},
   "source": [
    "Copyright &copy; 2018 <a href=\"cognitiveclass.ai?utm_source=bducopyrightlink&utm_medium=dswb&utm_campaign=bdu\">cognitiveclass.ai</a>. This notebook and its source code are released under the terms of the <a href=\"https://bigdatauniversity.com/mit-license/\">MIT License</a>."
   ]
  }
 ],
 "metadata": {
  "kernelspec": {
   "display_name": "Python",
   "language": "python",
   "name": "conda-env-python-py"
  },
  "language_info": {
   "codemirror_mode": {
    "name": "ipython",
    "version": 3
   },
   "file_extension": ".py",
   "mimetype": "text/x-python",
   "name": "python",
   "nbconvert_exporter": "python",
   "pygments_lexer": "ipython3",
   "version": "3.6.11"
  }
 },
 "nbformat": 4,
 "nbformat_minor": 4
}
