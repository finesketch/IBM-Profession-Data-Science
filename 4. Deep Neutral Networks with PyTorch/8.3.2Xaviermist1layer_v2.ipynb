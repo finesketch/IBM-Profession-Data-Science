{
 "cells": [
  {
   "cell_type": "markdown",
   "metadata": {},
   "source": [
    "<a href=\"http://cocl.us/pytorch_link_top\">\n",
    "    <img src=\"https://s3-api.us-geo.objectstorage.softlayer.net/cf-courses-data/CognitiveClass/DL0110EN/notebook_images%20/Pytochtop.png\" width=\"750\" alt=\"IBM Product \" />\n",
    "</a> \n"
   ]
  },
  {
   "cell_type": "markdown",
   "metadata": {},
   "source": [
    "<img src=\"https://s3-api.us-geo.objectstorage.softlayer.net/cf-courses-data/CognitiveClass/DL0110EN/notebook_images%20/cc-logo-square.png\" width=\"200\" alt=\"cognitiveclass.ai logo\" />"
   ]
  },
  {
   "cell_type": "markdown",
   "metadata": {},
   "source": [
    "<h1>Test Uniform, Default and Xavier Uniform Initialization on MNIST dataset with tanh activation</h1>"
   ]
  },
  {
   "cell_type": "markdown",
   "metadata": {},
   "source": [
    "<h2>Table of Contents</h2>\n",
    "In this lab, you will test PyTroch Default Initialization, Xavier Initialization and Uniform Initialization on the MNIST dataset. \n",
    "\n",
    "<ul>\n",
    "    <li><a href=\"#Model\">Neural Network Module and Training Function</a></li>\n",
    "    <li><a href=\"#Make\">Make Some Data</a></li>\n",
    "    <li><a href=\"#Cost\">Define Several Neural Network, Criterion function, Optimizer</a></li>\n",
    "    <li><a href=\"#Train\">Test Uniform, Default and Xavier Initialization</a></li>\n",
    "    <li><a href=\"#Result\">Analyze Results</a></li>\n",
    "</ul>\n",
    "\n",
    "<p>Estimated Time Needed: <strong>25 min</strong></p>\n",
    "\n",
    "<hr>"
   ]
  },
  {
   "cell_type": "code",
   "execution_count": 1,
   "metadata": {
    "tags": [
     "outputPrepend"
    ]
   },
   "outputs": [
    {
     "output_type": "stream",
     "name": "stdout",
     "text": "\ncurl -> libcurl[version='7.57.0|7.58.0|7.59.0|7.60.0|7.61.0|7.61.1|7.62.0|7.63.0|7.63.0|7.64.0|7.64.1|7.65.2|7.65.3|7.67.0|7.68.0|7.69.1|7.71.0|7.71.1',build='hf30b1f0_0|hf30b1f0_0|h051b688_0|h051b688_0|h051b688_0|h051b688_0|h8a08a2b_0|h8a08a2b_1|h051b688_0|h051b688_0|h051b688_0|h051b688_2|h051b688_1000|h051b688_0|hf30b1f0_0|hf30b1f0_0|hf30b1f0_0|hf30b1f0_0']\n\nPackage dask conflicts for:\nanaconda==2019.10 -> dask[version='1.2.2|2.5.2',build=py_0]\nscikit-image -> dask[version='>=0.5']\n\nPackage expat conflicts for:\nanaconda==2019.10 -> dbus==1.13.6=h90a0687_0 -> expat[version='>=2.2.6,<3.0a0']\ndbus -> expat[version='>=2.2.5,<3.0a0|>=2.2.6,<3.0a0']\nanaconda==2019.10 -> expat==2.2.6=h0a44026_0\nlibarchive -> expat[version='>=2.2.4,<3.0a0']\npython-libarchive-c -> libarchive -> expat[version='>=2.2.4,<3.0a0']\nconda-build -> libarchive -> expat[version='>=2.2.4,<3.0a0']\npyqt -> dbus[version='>=1.13.12,<2.0a0'] -> expat[version='>=2.2.5,<3.0a0|>=2.2.6,<3.0a0']\n\nPackage krb5 conflicts for:\nanaconda==2019.10 -> curl==7.65.3=ha441bb4_0 -> krb5[version='>=1.16.1,<1.17.0a0']\ncurl -> krb5[version='>=1.16.1,<1.17.0a0|>=1.17.1,<1.18.0a0|>=1.18.2,<1.19.0a0']\nanaconda==2019.10 -> krb5==1.16.1=hddcf347_7\nlibcurl -> krb5[version='>=1.16.1,<1.17.0a0|>=1.17.1,<1.18.0a0|>=1.18.2,<1.19.0a0']\npycurl -> libcurl[version='>=7.67.0,<8.0a0'] -> krb5[version='>=1.16.1,<1.17.0a0|>=1.17.1,<1.18.0a0|>=1.18.2,<1.19.0a0']\n\nPackage curl conflicts for:\nanaconda==2019.10 -> curl==7.65.3=ha441bb4_0\npycurl -> curl[version='7.55.*|>=7.55.1,<8.0a0']\n\nPackage pkginfo conflicts for:\nconda-build -> pkginfo\nanaconda==2019.10 -> pkginfo==1.5.0.1[build='py37_0|py36_0|py27_0']\n\nPackage pandocfilters conflicts for:\nanaconda==2019.10 -> pandocfilters==1.4.2[build='py37_1|py27_1|py36_1']\nnotebook -> nbconvert -> pandocfilters[version='>=1.4.1']\nspyder -> nbconvert[version='>=4.0'] -> pandocfilters[version='>=1.4.1']\nnbconvert -> pandocfilters[version='>=1.4.1']\njupyter -> nbconvert -> pandocfilters[version='>=1.4.1']\nanaconda==2019.10 -> nbconvert==5.6.0=py36_1 -> pandocfilters[version='>=1.4.1']\n\nPackage gettext conflicts for:\nanaconda==2019.10 -> gettext==0.19.8.1=h15daf44_3\nglib -> gettext[version='>=0.19.8.1,<1.0a0']\ndbus -> glib[version='>=2.63.1,<3.0a0'] -> gettext[version='>=0.19.8.1,<1.0a0']\nanaconda==2019.10 -> glib==2.56.2=hd9629dc_0 -> gettext[version='>=0.19.8.1,<1.0a0']\n\nPackage qtconsole conflicts for:\njupyter -> qtconsole\nanaconda==2019.10 -> qtconsole==4.5.5=py_0\nspyder -> qtconsole[version='>=4.2|>=4.6.0']\nanaconda==2019.10 -> jupyter==1.0.0=py36_7 -> qtconsole[version='>=4.2']\n\nPackage pillow conflicts for:\nscikit-image -> pillow[version='>=2.1.0|>=4.3.0']\ntorchvision -> pillow[version='>=4.1.1']\nanaconda==2019.10 -> bokeh==1.3.4=py36_0 -> pillow[version='>=4.0|>=4.3.0']\nbokeh -> pillow[version='>=4.0']\nanaconda-navigator -> pillow\nanaconda==2019.10 -> pillow==6.2.0[build='py37hb68e598_0|py27hb68e598_0|py36hb68e598_0']\ndask -> bokeh[version='>=1.0.0,!=2.0.0'] -> pillow[version='>=4.0']\nimageio -> pillow\nscikit-image -> imageio[version='>=2.3.0'] -> pillow\n\nPackage pandoc conflicts for:\njupyter -> nbconvert -> pandoc[version='>=1.12.1|>=1.12.1,<2.0.0']\nnbconvert -> pandoc[version='>=1.12.1|>=1.12.1,<2.0.0']\nspyder -> nbconvert[version='>=4.0'] -> pandoc[version='>=1.12.1|>=1.12.1,<2.0.0']\nanaconda==2019.10 -> pandoc==2.2.3.2=0\nanaconda==2019.10 -> nbconvert==5.6.0=py36_1 -> pandoc[version='>=1.12.1']\nnotebook -> nbconvert -> pandoc[version='>=1.12.1|>=1.12.1,<2.0.0']\n\nPackage libxslt conflicts for:\nanaconda==2019.10 -> lxml==4.4.1=py36hef8c89e_0 -> libxslt[version='>=1.1.33,<2.0a0']\nlxml -> libxslt[version='>=1.1.32,<2.0a0|>=1.1.33,<2.0a0|>=1.1.34,<2.0a0']\nanaconda==2019.10 -> libxslt==1.1.33=h33a18ac_0\n\nPackage pycparser conflicts for:\ngevent -> cffi[version='>=1.11.5'] -> pycparser\npytorch -> cffi -> pycparser\ncffi -> pycparser\nanaconda==2019.10 -> cffi==1.12.3=py36hb5b8e2f_0 -> pycparser\nanaconda==2019.10 -> pycparser==2.19[build='py37_0|py36_0|py27_0']\ncryptography -> cffi -> pycparser\n\nPackage cryptography-vectors conflicts for:\ncryptography -> cryptography-vectors=2.3\npyopenssl -> cryptography[version='>=2.2.1'] -> cryptography-vectors=2.3\nurllib3 -> cryptography[version='>=1.3.4'] -> cryptography-vectors=2.3\n\nPackage qt conflicts for:\nanaconda==2019.10 -> qt==5.9.7=h468cd18_1\nanaconda-navigator -> pyqt[version='>=5.6,<6.0a0'] -> qt[version='5.6.*|5.9.*|>=5.9.7,<5.10.0a0|>=5.9.6,<5.10.0a0']\nqtconsole -> pyqt -> qt[version='5.6.*|5.9.*|>=5.9.7,<5.10.0a0|>=5.9.6,<5.10.0a0']\npyqt -> qt[version='5.6.*|5.9.*|>=5.9.7,<5.10.0a0|>=5.9.6,<5.10.0a0']\nanaconda==2019.10 -> pyqt==5.9.2=py36h655552a_2 -> qt[version='5.9.*|>=5.9.6,<5.10.0a0']\nspyder -> pyqt[version='>=5.6,<5.13'] -> qt[version='5.6.*|5.9.*|>=5.9.7,<5.10.0a0|>=5.9.6,<5.10.0a0']\nnavigator-updater -> pyqt[version='>=5.6'] -> qt[version='5.6.*|5.9.*|>=5.9.7,<5.10.0a0|>=5.9.6,<5.10.0a0']\n\nPackage dbus conflicts for:\nanaconda==2019.10 -> dbus==1.13.6=h90a0687_0\nanaconda-navigator -> pyqt[version='>=5.6,<6.0a0'] -> dbus[version='>=1.10.22,<2.0a0|>=1.12.2,<2.0a0|>=1.13.12,<2.0a0|>=1.13.2,<2.0a0']\npyqt -> dbus[version='>=1.10.22,<2.0a0|>=1.12.2,<2.0a0|>=1.13.12,<2.0a0|>=1.13.2,<2.0a0']\nanaconda==2019.10 -> pyqt==5.9.2=py36h655552a_2 -> dbus[version='>=1.13.2,<2.0a0']\nnavigator-updater -> pyqt[version='>=5.6'] -> dbus[version='>=1.10.22,<2.0a0|>=1.12.2,<2.0a0|>=1.13.12,<2.0a0|>=1.13.2,<2.0a0']\nspyder -> pyqt[version='>=5.6,<5.13'] -> dbus[version='>=1.10.22,<2.0a0|>=1.12.2,<2.0a0|>=1.13.12,<2.0a0|>=1.13.2,<2.0a0']\nqtconsole -> pyqt -> dbus[version='>=1.10.22,<2.0a0|>=1.12.2,<2.0a0|>=1.13.12,<2.0a0|>=1.13.2,<2.0a0']\n\nPackage _pytorch_select conflicts for:\npytorch -> _pytorch_select==0.1\ntorchvision -> _pytorch_select==0.1\n\nPackage numexpr conflicts for:\nanaconda==2019.10 -> pytables==3.5.2=py36h5bccee9_1 -> numexpr\nanaconda==2019.10 -> numexpr==2.7.0[build='py36h7413580_0|py27h7413580_0|py37h7413580_0']\npytables -> numexpr\n\nPackage snowballstemmer conflicts for:\nanaconda==2019.10 -> snowballstemmer==2.0.0=py_0\nanaconda==2019.10 -> sphinx==2.2.0=py_0 -> snowballstemmer[version='>=1.1']\nspyder -> sphinx[version='>=0.6.6'] -> snowballstemmer[version='>=1.1']\nsphinx -> snowballstemmer[version='>=1.1']\nnumpydoc -> sphinx -> snowballstemmer[version='>=1.1']\n\nPackage threadpoolctl conflicts for:\nnltk -> scikit-learn -> threadpoolctl\nscikit-learn -> threadpoolctl\n\nPackage pyyaml conflicts for:\nanaconda-project -> anaconda-client -> pyyaml[version='>=3.12']\ndask-core -> pyyaml\nanaconda-client -> pyyaml[version='>=3.12']\nanaconda==2019.10 -> anaconda-client==1.7.2=py36_0 -> pyyaml[version='>=3.10']\nbokeh -> pyyaml[version='>=3.10']\ndistributed -> pyyaml\nanaconda==2019.10 -> pyyaml[version='5.1.1|5.1.2|5.1.2',build='py27h1de35cc_0|py36h1de35cc_0|py37h1de35cc_0']\nscikit-image -> dask-core[version='>=0.15.0'] -> pyyaml\nspyder -> watchdog -> pyyaml[version='>=3.10']\ndask -> bokeh[version='>=1.0.0,!=2.0.0'] -> pyyaml[version='>=3.10']\nconda-verify -> pyyaml\nanaconda-navigator -> anaconda-client[version='>=1.6.14'] -> pyyaml[version='>=3.12']\nanaconda-navigator -> pyyaml[version='>=5.1']\nconda-build -> pyyaml\n\nPackage libllvm9 conflicts for:\nnumba -> llvmlite[version='>=0.33.0',build=*_1] -> libllvm9==9.0.1[build=*_1]\nllvmlite -> libllvm9==9.0.1[build=*_1]\n\nPackage pytest-remotedata conflicts for:\nanaconda==2019.10 -> pytest-astropy==0.5.0=py36_0 -> pytest-remotedata[version='>=0.3.1']\nastropy -> pytest-astropy -> pytest-remotedata[version='>=0.2|>=0.2.1|>=0.3.0|>=0.3.1']\npytest-astropy -> pytest-remotedata[version='>=0.2|>=0.2.1|>=0.3.0|>=0.3.1']\nanaconda==2019.10 -> pytest-remotedata==0.3.2[build='py36_0|py37_0']\n\nPackage libssh2 conflicts for:\npycurl -> libcurl[version='>=7.67.0,<8.0a0'] -> libssh2[version='1.*|>=1.8.0,<2.0a0|>=1.8.2,<2.0a0|>=1.9.0,<2.0a0']\nlibcurl -> libssh2[version='>=1.8.0,<2.0a0|>=1.8.2,<2.0a0|>=1.9.0,<2.0a0']\ncurl -> libssh2[version='1.*|>=1.8.0,<2.0a0|>=1.8.2,<2.0a0|>=1.9.0,<2.0a0']\nanaconda==2019.10 -> curl==7.65.3=ha441bb4_0 -> libssh2[version='>=1.8.2,<2.0a0']\nanaconda==2019.10 -> libssh2==1.8.2=ha12b0ac_0\n\nPackage asn1crypto conflicts for:\nanaconda==2019.10 -> asn1crypto==1.0.1[build='py37_0|py36_0|py27_0']\npyopenssl -> cryptography[version='>=2.8'] -> asn1crypto[version='>=0.21.0']\ncryptography -> asn1crypto[version='>=0.21.0']\nanaconda==2019.10 -> cryptography==2.7=py36ha12b0ac_0 -> asn1crypto[version='>=0.21.0']\nurllib3 -> cryptography[version='>=1.3.4'] -> asn1crypto[version='>=0.21.0']\n\nPackage py-lief conflicts for:\nconda-build -> py-lief\nanaconda==2019.10 -> py-lief==0.9.0[build='py37h1413db1_2|py36h1413db1_2|py27h1413db1_2']\n\nPackage mpmath conflicts for:\nanaconda==2019.10 -> sympy==1.4=py36_0 -> mpmath[version='>=0.19']\nsympy -> mpmath[version='>=0.19']\nanaconda==2019.10 -> mpmath==1.1.0[build='py37_0|py36_0|py27_0']\n\nPackage python-dateutil conflicts for:\nnotebook -> jupyter_client[version='>=5.3.4'] -> python-dateutil[version='>=2.1']\ndask -> bokeh[version='>=1.0.0,!=2.0.0'] -> python-dateutil[version='>=2.1|>=2.6.1|>=2.5.*']\njupyter_client -> python-dateutil[version='>=2.1']\nspyder-kernels -> jupyter_client[version='>=5.3.4'] -> python-dateutil[version='>=2.1']\nmatplotlib -> python-dateutil\nqtconsole -> jupyter_client[version='>=4.1'] -> python-dateutil[version='>=2.1']\nscikit-image -> matplotlib[version='>=2.0.0'] -> python-dateutil\nanaconda==2019.10 -> python-dateutil==2.8.0[build='py37_0|py36_0|py27_0']\nanaconda-project -> anaconda-client -> python-dateutil[version='>=2.6.1']\npandas -> python-dateutil[version='>=2.5.*|>=2.6.1']\nnbconvert -> jupyter_client[version='>=4.2'] -> python-dateutil[version='>=2.1']\nseaborn -> matplotlib[version='>=2.1.2'] -> python-dateutil[version='>=2.5.*|>=2.6.1']\nbokeh -> python-dateutil[version='>=2.1']\nnltk -> matplotlib -> python-dateutil\njupyter_console -> jupyter_client -> python-dateutil[version='>=2.1']\nbkcharts -> pandas -> python-dateutil[version='>=2.5.*|>=2.6.1']\nstatsmodels -> pandas[version='>=0.21'] -> python-dateutil[version='>=2.5.*|>=2.6.1']\nbokeh -> matplotlib -> python-dateutil[version='>=2.5.*|>=2.6.1']\nanaconda==2019.10 -> anaconda-client==1.7.2=py36_0 -> python-dateutil[version='>=2.1|>=2.6.1|>=2.5.*']\nipykernel -> jupyter_client -> python-dateutil[version='>=2.1']\nanaconda-navigator -> anaconda-client[version='>=1.6.14'] -> python-dateutil[version='>=2.6.1']\nanaconda-client -> python-dateutil[version='>=2.6.1']\n\nPackage alabaster conflicts for:\nnumpydoc -> sphinx -> alabaster[version='>=0.7,<0.8']\nanaconda==2019.10 -> sphinx==2.2.0=py_0 -> alabaster[version='>=0.7,<0.8']\nanaconda==2019.10 -> alabaster==0.7.12[build='py37_0|py36_0|py27_0']\nsphinx -> alabaster[version='>=0.7,<0.8']\nspyder -> sphinx[version='>=0.6.6'] -> alabaster[version='>=0.7,<0.8']\n\nPackage pylint conflicts for:\nspyder -> pylint[version='>=0.25|>=1.0']\nanaconda==2019.10 -> pylint[version='1.9.2|2.4.2|2.4.2',build='py37_0|py36_0|py27_0']\nanaconda==2019.10 -> spyder==3.3.6=py36_0 -> pylint\n\nPackage astroid conflicts for:\nspyder -> pylint[version='>=1.0'] -> astroid[version='>=1.5.1|>=1.6,<2.0|>=2.0.0|>=2.2.0|>=2.3.0,<2.4|>=2.4.0,<2.5']\nanaconda==2019.10 -> astroid[version='1.6.5|2.3.1|2.3.1',build='py37_0|py36_0|py27_0']\nanaconda==2019.10 -> pylint==2.4.2=py36_0 -> astroid[version='>=1.6,<2.0|>=2.3.0,<2.4']\npylint -> astroid[version='>=1.5.1|>=1.6,<2.0|>=2.0.0|>=2.2.0|>=2.3.0,<2.4|>=2.4.0,<2.5']\n\nPackage coverage conflicts for:\npytest-astropy -> hypothesis -> coverage\nattrs -> hypothesis -> coverage\n\nPackage jupyterlab_server conflicts for:\nanaconda==2019.10 -> jupyterlab==1.1.4=pyhf63ae98_0 -> jupyterlab_server[version='>=1.0.0,<2.0.0']\njupyterlab -> jupyterlab_server[version='>=0.2.0,<0.3.0|>=1.0.0,<2.0.0|>=1.1.0,<2.0.0']\n_ipyw_jlab_nb_ext_conf -> jupyterlab -> jupyterlab_server[version='>=0.2.0,<0.3.0|>=1.0.0,<2.0.0|>=1.1.0,<2.0.0']\nanaconda==2019.10 -> jupyterlab_server==1.0.6=py_0\n\nPackage pytest-arraydiff conflicts for:\npytest-astropy -> pytest-arraydiff[version='>=0.1']\nastropy -> pytest-astropy -> pytest-arraydiff[version='>=0.1']\nanaconda==2019.10 -> pytest-arraydiff==0.3[build='py37h39e3cac_0|py36h39e3cac_0']\nanaconda==2019.10 -> pytest-astropy==0.5.0=py36_0 -> pytest-arraydiff[version='>=0.1']\n\nPackage pysocks conflicts for:\nurllib3 -> pysocks[version='>=1.5.6,<2.0,!=1.5.7']\nanaconda==2019.10 -> urllib3==1.24.2=py36_0 -> pysocks[version='>=1.5.6,<2.0,!=1.5.7']\nrequests -> urllib3[version='>=1.21.1,<1.26,!=1.25.0,!=1.25.1'] -> pysocks[version='>=1.5.6,<2.0,!=1.5.7']\nanaconda==2019.10 -> pysocks==1.7.1[build='py37_0|py36_0|py27_0']\n\nPackage mpc conflicts for:\nanaconda==2019.10 -> gmpy2==2.0.8=py36h6ef4df4_2 -> mpc\ngmpy2 -> mpc\nanaconda==2019.10 -> mpc==1.1.0=h6ef4df4_1\nsympy -> gmpy2[version='>=2.0.8'] -> mpc\n\nPackage et_xmlfile conflicts for:\nanaconda==2019.10 -> openpyxl==3.0.0=py_0 -> et_xmlfile\nopenpyxl -> et_xmlfile\nanaconda==2019.10 -> et_xmlfile==1.0.1[build='py36h1315bdc_0|py27hc42f929_0|py37_0']\n\nPackage send2trash conflicts for:\nwidgetsnbextension -> notebook[version='>=4.4.1'] -> send2trash\njupyter -> notebook -> send2trash\njupyterlab_server -> notebook[version='>=4.2.0'] -> send2trash\nnotebook -> send2trash\nanaconda==2019.10 -> notebook==6.0.1=py36_0 -> send2trash\nanaconda==2019.10 -> send2trash==1.5.0[build='py37_0|py36_0|py27_0']\njupyterlab -> notebook[version='>=4.3.1'] -> send2trash\n\nPackage backports.tempfile conflicts for:\nconda-verify -> backports.tempfile\nconda-build -> conda-verify -> backports.tempfile\n\nPackage locket conflicts for:\nanaconda==2019.10 -> partd==1.0.0=py_0 -> locket\npartd -> locket\ndask -> partd[version='>=0.3.10'] -> locket\nanaconda==2019.10 -> locket==0.2.0[build='py37_1|py27ha10513d_1|py36hca03003_1']\n\nPackage backports.weakref conflicts for:\nbackports.tempfile -> backports.weakref\nconda-verify -> backports.tempfile -> backports.weakref\n\nPackage prompt_toolkit conflicts for:\njupyter_console -> prompt_toolkit[version='>=1.0.0,<2|>=2.0.0,<2.1.0|>=2.0.0,<3.1.0,!=3.0.0,!=3.0.1']\nanaconda==2019.10 -> prompt_toolkit[version='1.0.15|2.0.10',build='py27h4a7b9c2_0|py_0']\nipykernel -> ipython[version='>=5.0'] -> prompt_toolkit[version='>=1.0.4,<2.0.0|>=2.0.0,<3|>=2.0.0,<4,!=3.0.0,!=3.0.1']\nipython -> prompt_toolkit[version='>=1.0.4,<2.0.0|>=2.0.0,<3|>=2.0.0,<4,!=3.0.0,!=3.0.1']\nanaconda==2019.10 -> ipython==7.8.0=py36h39e3cac_0 -> prompt_toolkit[version='>=1.0.0,<2|>=1.0.4,<2.0.0|>=2.0.0,<2.1.0|>=2.0.0,<3']\njupyter_console -> ipython -> prompt_toolkit[version='>=1.0.4,<2.0.0|>=2.0.0,<3|>=2.0.0,<4,!=3.0.0,!=3.0.1']\njupyter -> jupyter_console -> prompt_toolkit[version='>=1.0.0,<2|>=2.0.0,<2.1.0|>=2.0.0,<3.1.0,!=3.0.0,!=3.0.1']\nipywidgets -> ipython[version='>=4.0.0'] -> prompt_toolkit[version='>=1.0.4,<2.0.0|>=2.0.0,<3|>=2.0.0,<4,!=3.0.0,!=3.0.1']\n\nPackage msgpack-python conflicts for:\nanaconda==2019.10 -> msgpack-python==0.6.1[build='py37h04f5b5a_1|py36h04f5b5a_1|py27h04f5b5a_1']\ndask -> distributed[version='>=2.20.0'] -> msgpack-python[version='>=0.6.0']\nanaconda==2019.10 -> distributed==2.5.2=py_0 -> msgpack-python\ndistributed -> msgpack-python[version='>=0.6.0']\n\nPackage _low_priority conflicts for:\nconda-build -> libarchive -> _low_priority\npython-libarchive-c -> libarchive -> _low_priority\nlibarchive -> _low_priority\n\nPackage pbr conflicts for:\nmock -> pbr\npytables -> mock -> pbr\n\nPackage appscript conflicts for:\nanaconda==2019.10 -> xlwings==0.15.10=py36_0 -> appscript[version='>=1.0.1']\nxlwings -> appscript[version='>=1.0.1']\nanaconda==2019.10 -> appscript==1.1.0[build='py27h1de35cc_0|py36h1de35cc_0|py37h1de35cc_0']\n\nPackage jupyterlab conflicts for:\nanaconda==2019.10 -> jupyterlab[version='0.33.11|1.1.4',build='py27_0|pyhf63ae98_0']\n_ipyw_jlab_nb_ext_conf -> jupyterlab\n\nPackage backports.shutil_get_terminal_size conflicts for:\nget_terminal_size -> backports.shutil_get_terminal_size\nipykernel -> ipython[version='>=5.0'] -> backports.shutil_get_terminal_size\nanaconda==2019.10 -> get_terminal_size==1.0.0=h7520d66_0 -> backports.shutil_get_terminal_size\nipython -> backports.shutil_get_terminal_size\nipywidgets -> ipython[version='>=4.0.0'] -> backports.shutil_get_terminal_size\njupyter_console -> ipython -> backports.shutil_get_terminal_size\nanaconda==2019.10 -> backports.shutil_get_terminal_size==1.0.0[build='py36_2|py27_2|py37_2']\n\nPackage qtawesome conflicts for:\nanaconda==2019.10 -> spyder==3.3.6=py36_0 -> qtawesome[version='>=0.5.7']\nspyder -> qtawesome[version='>=0.4.1|>=0.5.7']\nanaconda==2019.10 -> qtawesome==0.6.0=py_0\n\nPackage parso conflicts for:\nspyder -> parso[version='0.5.2.*|0.7.0.*']\nspyder -> jedi=0.17.1 -> parso[version='0.1.0|>=0.1.0,<0.2|>=0.2.0|>=0.3.0|>=0.5.0|>=0.7.0,<0.8.0|>=0.7.0|>=0.5.2']\njedi -> parso[version='0.1.0|>=0.1.0,<0.2|>=0.2.0|>=0.3.0|>=0.5.0|>=0.5.2|>=0.7.0|>=0.7.0,<0.8.0']\nanaconda==2019.10 -> parso==0.5.1=py_0\nipython -> jedi[version='>=0.10'] -> parso[version='0.1.0|>=0.1.0,<0.2|>=0.2.0|>=0.3.0|>=0.5.0|>=0.5.2|>=0.7.0|>=0.7.0,<0.8.0']\nanaconda==2019.10 -> jedi==0.15.1=py36_0 -> parso[version='>=0.5.0']\n\nPackage imagesize conflicts for:\nanaconda==2019.10 -> imagesize==1.1.0[build='py37_0|py36_0|py27_0']\nanaconda==2019.10 -> sphinx==2.2.0=py_0 -> imagesize\nsphinx -> imagesize\nnumpydoc -> sphinx -> imagesize\nspyder -> sphinx[version='>=0.6.6'] -> imagesize\n\nPackage beautifulsoup4 conflicts for:\nanaconda==2019.10 -> beautifulsoup4==4.8.0[build='py37_0|py36_0|py27_0']\nconda-build -> beautifulsoup4\n\nPackage pywavelets conflicts for:\nanaconda==2019.10 -> pywavelets==1.0.3[build='py37h1d22016_1|py27h1d22016_1|py36h1d22016_1']\nscikit-image -> pywavelets[version='>=0.4.0']\nanaconda==2019.10 -> scikit-image==0.15.0=py36h0a44026_0 -> pywavelets[version='>=0.4.0']\n\nPackage lcms2 conflicts for:\ntorchvision -> pillow[version='>=4.1.1'] -> lcms2[version='>=2.11,<3.0a0']\nbokeh -> pillow[version='>=4.0'] -> lcms2[version='>=2.11,<3.0a0']\nimageio -> pillow -> lcms2[version='>=2.11,<3.0a0']\nanaconda-navigator -> pillow -> lcms2[version='>=2.11,<3.0a0']\npillow -> lcms2[version='>=2.11,<3.0a0']\nscikit-image -> pillow[version='>=4.3.0'] -> lcms2[version='>=2.11,<3.0a0']\n\nPackage webencodings conflicts for:\nhtml5lib -> webencodings\nbleach -> webencodings\nanaconda==2019.10 -> bleach==3.1.0=py36_0 -> webencodings\nanaconda==2019.10 -> webencodings==0.5.1[build='py37_1|py27_1|py36_1']\nnbconvert -> bleach -> webencodings\n\nPackage json5 conflicts for:\njupyterlab_server -> json5\nanaconda==2019.10 -> json5==0.8.5=py_0\nanaconda==2019.10 -> jupyterlab_server==1.0.6=py_0 -> json5\njupyterlab -> jupyterlab_server[version='>=1.1.0,<2.0.0'] -> json5\n\nPackage imageio conflicts for:\nscikit-image -> imageio[version='>=2.1.0|>=2.3.0']\nanaconda==2019.10 -> imageio==2.6.0[build='py37_0|py36_0|py27_0']\nanaconda==2019.10 -> scikit-image==0.15.0=py36h0a44026_0 -> imageio[version='>=2.1.0']\n\nPackage backports.os conflicts for:\nanaconda==2019.10 -> backports.os==0.1.1[build='py37_0|py36_0|py27_0']\npath.py -> backports.os\nanaconda==2019.10 -> path.py==12.0.1=py_0 -> backports.os\n\nPackage fastcache conflicts for:\nanaconda==2019.10 -> sympy==1.4=py36_0 -> fastcache\nsympy -> fastcache\nanaconda==2019.10 -> fastcache==1.1.0[build='py27h1de35cc_0|py36h1de35cc_0|py37h1de35cc_0']\n\nPackage anaconda-project conflicts for:\nanaconda-navigator -> anaconda-project[version='>=0.4']\nanaconda==2019.10 -> anaconda-project==0.8.3=py_0\n\nPackage contextvars conflicts for:\ndistributed -> contextvars\ndask -> distributed[version='>=2.20.0'] -> contextvars\n\nPackage ninja conflicts for:\ntorchvision -> pytorch=1.3.1 -> ninja\npytorch -> ninja\n\nPackage blosc conflicts for:\nanaconda==2019.10 -> blosc==1.16.3=hd9629dc_0\nanaconda==2019.10 -> pytables==3.5.2=py36h5bccee9_1 -> blosc[version='>=1.16.3,<2.0a0']\npytables -> blosc[version='>=1.14.3,<2.0a0|>=1.14.4,<2.0a0|>=1.15.0,<2.0a0|>=1.16.3,<2.0a0']\n\nPackage greenlet conflicts for:\nanaconda==2019.10 -> greenlet==0.4.15[build='py27h1de35cc_0|py36h1de35cc_0|py37h1de35cc_0']\nanaconda==2019.10 -> gevent==1.4.0=py36h1de35cc_0 -> greenlet[version='>=0.4.14']\ngevent -> greenlet[version='>=0.4.10|>=0.4.13|>=0.4.14']\n\n"
    }
   ],
   "source": [
    "!conda install -y torchvision"
   ]
  },
  {
   "cell_type": "code",
   "execution_count": null,
   "metadata": {},
   "outputs": [],
   "source": []
  },
  {
   "cell_type": "markdown",
   "metadata": {},
   "source": [
    "<h2>Preparation</h2>"
   ]
  },
  {
   "cell_type": "markdown",
   "metadata": {},
   "source": [
    "We'll need the following libraries:  "
   ]
  },
  {
   "cell_type": "code",
   "execution_count": 1,
   "metadata": {
    "tags": []
   },
   "outputs": [
    {
     "output_type": "error",
     "ename": "ModuleNotFoundError",
     "evalue": "No module named 'torchvision'",
     "traceback": [
      "\u001b[0;31m---------------------------------------------------------------------------\u001b[0m",
      "\u001b[0;31mModuleNotFoundError\u001b[0m                       Traceback (most recent call last)",
      "\u001b[0;32m<ipython-input-1-313af2616195>\u001b[0m in \u001b[0;36m<module>\u001b[0;34m\u001b[0m\n\u001b[1;32m      6\u001b[0m \u001b[0;32mimport\u001b[0m \u001b[0mtorch\u001b[0m\u001b[0;34m\u001b[0m\u001b[0;34m\u001b[0m\u001b[0m\n\u001b[1;32m      7\u001b[0m \u001b[0;32mimport\u001b[0m \u001b[0mtorch\u001b[0m\u001b[0;34m.\u001b[0m\u001b[0mnn\u001b[0m \u001b[0;32mas\u001b[0m \u001b[0mnn\u001b[0m\u001b[0;34m\u001b[0m\u001b[0;34m\u001b[0m\u001b[0m\n\u001b[0;32m----> 8\u001b[0;31m \u001b[0;32mimport\u001b[0m \u001b[0mtorchvision\u001b[0m\u001b[0;34m.\u001b[0m\u001b[0mtransforms\u001b[0m \u001b[0;32mas\u001b[0m \u001b[0mtransforms\u001b[0m\u001b[0;34m\u001b[0m\u001b[0;34m\u001b[0m\u001b[0m\n\u001b[0m\u001b[1;32m      9\u001b[0m \u001b[0;32mimport\u001b[0m \u001b[0mtorchvision\u001b[0m\u001b[0;34m.\u001b[0m\u001b[0mdatasets\u001b[0m \u001b[0;32mas\u001b[0m \u001b[0mdsets\u001b[0m\u001b[0;34m\u001b[0m\u001b[0;34m\u001b[0m\u001b[0m\n\u001b[1;32m     10\u001b[0m \u001b[0;32mimport\u001b[0m \u001b[0mmatplotlib\u001b[0m\u001b[0;34m.\u001b[0m\u001b[0mpylab\u001b[0m \u001b[0;32mas\u001b[0m \u001b[0mplt\u001b[0m\u001b[0;34m\u001b[0m\u001b[0;34m\u001b[0m\u001b[0m\n",
      "\u001b[0;31mModuleNotFoundError\u001b[0m: No module named 'torchvision'"
     ]
    }
   ],
   "source": [
    "# Import the libraries we need to use in this lab\n",
    "\n",
    "# Using the following line code to install the torchvision library\n",
    "#!conda install -y torchvision\n",
    "\n",
    "import torch \n",
    "import torch.nn as nn\n",
    "import torchvision.transforms as transforms\n",
    "import torchvision.datasets as dsets\n",
    "import matplotlib.pylab as plt\n",
    "import numpy as np\n",
    "\n",
    "torch.manual_seed(0)"
   ]
  },
  {
   "cell_type": "markdown",
   "metadata": {},
   "source": [
    "<!--Empty Space for separating topics-->"
   ]
  },
  {
   "cell_type": "markdown",
   "metadata": {},
   "source": [
    "<h2 id=\"Model\">Neural Network Module and Training Function</h2> "
   ]
  },
  {
   "cell_type": "markdown",
   "metadata": {},
   "source": [
    "Define the neural network module or class with Xavier Initialization"
   ]
  },
  {
   "cell_type": "code",
   "execution_count": null,
   "metadata": {},
   "outputs": [],
   "source": [
    "# Define the neural network with Xavier initialization\n",
    "\n",
    "class Net_Xavier(nn.Module):\n",
    "    \n",
    "    # Constructor\n",
    "    def __init__(self, Layers):\n",
    "        super(Net_Xavier, self).__init__()\n",
    "        self.hidden = nn.ModuleList()\n",
    "\n",
    "        for input_size, output_size in zip(Layers, Layers[1:]):\n",
    "            linear = nn.Linear(input_size, output_size)\n",
    "            torch.nn.init.xavier_uniform_(linear.weight)\n",
    "            self.hidden.append(linear)\n",
    "    \n",
    "    # Prediction\n",
    "    def forward(self, x):\n",
    "        L = len(self.hidden)\n",
    "        for (l, linear_transform) in zip(range(L), self.hidden):\n",
    "            if l < L - 1:\n",
    "                x = torch.tanh(linear_transform(x))\n",
    "            else:\n",
    "                x = linear_transform(x)\n",
    "        return x"
   ]
  },
  {
   "cell_type": "markdown",
   "metadata": {},
   "source": [
    "Define the neural network module with Uniform Initialization:"
   ]
  },
  {
   "cell_type": "code",
   "execution_count": null,
   "metadata": {},
   "outputs": [],
   "source": [
    "# Define the neural network with Uniform initialization\n",
    "\n",
    "class Net_Uniform(nn.Module):\n",
    "    \n",
    "    # Constructor\n",
    "    def __init__(self, Layers):\n",
    "        super(Net_Uniform, self).__init__()\n",
    "        self.hidden = nn.ModuleList()\n",
    "\n",
    "        for input_size, output_size in zip(Layers, Layers[1:]):\n",
    "            linear = nn.Linear(input_size, output_size)\n",
    "            linear.weight.data.uniform_(0, 1)\n",
    "            self.hidden.append(linear)\n",
    "    \n",
    "    # Prediction\n",
    "    def forward(self, x):\n",
    "        L = len(self.hidden)\n",
    "        for (l, linear_transform) in zip(range(L), self.hidden):\n",
    "            if l < L - 1:\n",
    "                x = torch.tanh(linear_transform(x))\n",
    "            else:\n",
    "                x = linear_transform(x)\n",
    "        return x"
   ]
  },
  {
   "cell_type": "markdown",
   "metadata": {},
   "source": [
    "Define the neural network module with PyTroch Default Initialization"
   ]
  },
  {
   "cell_type": "code",
   "execution_count": null,
   "metadata": {},
   "outputs": [],
   "source": [
    "# Define the neural network with Default initialization\n",
    "\n",
    "class Net(nn.Module):\n",
    "    \n",
    "    # Constructor\n",
    "    def __init__(self, Layers):\n",
    "        super(Net, self).__init__()\n",
    "        self.hidden = nn.ModuleList()\n",
    "\n",
    "        for input_size, output_size in zip(Layers, Layers[1:]):\n",
    "            linear = nn.Linear(input_size, output_size)\n",
    "            self.hidden.append(linear)\n",
    "    \n",
    "    # Prediction\n",
    "    def forward(self, x):\n",
    "        L = len(self.hidden)\n",
    "        for (l, linear_transform) in zip(range(L), self.hidden):\n",
    "            if l < L - 1:\n",
    "                x = torch.tanh(linear_transform(x))\n",
    "            else:\n",
    "                x = linear_transform(x)\n",
    "        return x"
   ]
  },
  {
   "cell_type": "markdown",
   "metadata": {},
   "source": [
    "Define a function to train the model, in this case the function returns a Python dictionary to store the training loss and accuracy on the validation data "
   ]
  },
  {
   "cell_type": "code",
   "execution_count": null,
   "metadata": {},
   "outputs": [],
   "source": [
    "# function to Train the model\n",
    "\n",
    "def train(model, criterion, train_loader, validation_loader, optimizer, epochs = 100):\n",
    "    i = 0\n",
    "    loss_accuracy = {'training_loss':[], 'validation_accuracy':[]}  \n",
    "    \n",
    "    for epoch in range(epochs):\n",
    "        for i,(x, y) in enumerate(train_loader):\n",
    "            optimizer.zero_grad()\n",
    "            z = model(x.view(-1, 28 * 28))\n",
    "            loss = criterion(z, y)\n",
    "            loss.backward()\n",
    "            optimizer.step()\n",
    "            loss_accuracy['training_loss'].append(loss.data.item())\n",
    "            \n",
    "        correct = 0\n",
    "        for x, y in validation_loader:\n",
    "            yhat = model(x.view(-1, 28 * 28))\n",
    "            _, label = torch.max(yhat, 1)\n",
    "            correct += (label==y).sum().item()\n",
    "        accuracy = 100 * (correct / len(validation_dataset))\n",
    "        loss_accuracy['validation_accuracy'].append(accuracy)\n",
    "        \n",
    "    return loss_accuracy"
   ]
  },
  {
   "cell_type": "markdown",
   "metadata": {},
   "source": [
    "<!--Empty Space for separating topics-->"
   ]
  },
  {
   "cell_type": "markdown",
   "metadata": {},
   "source": [
    "<h2 id=\"Makeup_Data\">Make Some Data</h2> "
   ]
  },
  {
   "cell_type": "markdown",
   "metadata": {},
   "source": [
    "Load the training dataset by setting the parameters <code>train </code> to <code>True</code> and convert it to a tensor  by placing a transform object int the argument <code>transform</code>"
   ]
  },
  {
   "cell_type": "code",
   "execution_count": null,
   "metadata": {},
   "outputs": [],
   "source": [
    "# Create the train dataset\n",
    "\n",
    "train_dataset = dsets.MNIST(root='./data', train=True, download=True, transform=transforms.ToTensor())"
   ]
  },
  {
   "cell_type": "markdown",
   "metadata": {},
   "source": [
    "Load the testing dataset by setting the parameters <code>train</code> to <code>False</code> and convert it to a tensor  by placing a transform object int the argument <code>transform</code>"
   ]
  },
  {
   "cell_type": "code",
   "execution_count": null,
   "metadata": {},
   "outputs": [],
   "source": [
    "# Create the validation dataset\n",
    "\n",
    "validation_dataset = dsets.MNIST(root='./data', train=False, download=True, transform=transforms.ToTensor())"
   ]
  },
  {
   "cell_type": "markdown",
   "metadata": {},
   "source": [
    "Create the training-data loader and the validation-data loader object "
   ]
  },
  {
   "cell_type": "code",
   "execution_count": null,
   "metadata": {},
   "outputs": [],
   "source": [
    "# Create Dataloader for both train dataset and validation dataset\n",
    "\n",
    "train_loader = torch.utils.data.DataLoader(dataset=train_dataset, batch_size=2000, shuffle=True)\n",
    "validation_loader = torch.utils.data.DataLoader(dataset=validation_dataset, batch_size=5000, shuffle=False)"
   ]
  },
  {
   "cell_type": "markdown",
   "metadata": {},
   "source": [
    "<!--Empty Space for separating topics-->"
   ]
  },
  {
   "cell_type": "markdown",
   "metadata": {},
   "source": [
    "<h2 id=\"Cost\">Define Neural Network, Criterion function, Optimizer and Train the Model</h2> "
   ]
  },
  {
   "cell_type": "markdown",
   "metadata": {},
   "source": [
    "Create the criterion function"
   ]
  },
  {
   "cell_type": "code",
   "execution_count": null,
   "metadata": {},
   "outputs": [],
   "source": [
    "# Define criterion function\n",
    "\n",
    "criterion = nn.CrossEntropyLoss()"
   ]
  },
  {
   "cell_type": "markdown",
   "metadata": {},
   "source": [
    "Create the model with 100 hidden layers  "
   ]
  },
  {
   "cell_type": "code",
   "execution_count": null,
   "metadata": {},
   "outputs": [],
   "source": [
    "# Set the parameters\n",
    "\n",
    "input_dim = 28 * 28\n",
    "output_dim = 10\n",
    "layers = [input_dim, 100, 10, 100, 10, 100, output_dim]\n",
    "epochs = 15"
   ]
  },
  {
   "cell_type": "markdown",
   "metadata": {},
   "source": [
    "<!--Empty Space for separating topics-->"
   ]
  },
  {
   "cell_type": "markdown",
   "metadata": {},
   "source": [
    "<h2 id=\"Train\">Test PyTorch Default Initialization, Xavier Initialization, Uniform Initialization</h2> "
   ]
  },
  {
   "cell_type": "markdown",
   "metadata": {},
   "source": [
    "Train the network using PyTorch Default Initialization"
   ]
  },
  {
   "cell_type": "code",
   "execution_count": null,
   "metadata": {},
   "outputs": [],
   "source": [
    "# Train the model with default initialization\n",
    "\n",
    "model = Net(layers)\n",
    "learning_rate = 0.01\n",
    "optimizer = torch.optim.SGD(model.parameters(), lr=learning_rate)\n",
    "training_results = train(model, criterion, train_loader, validation_loader, optimizer, epochs=epochs)"
   ]
  },
  {
   "cell_type": "markdown",
   "metadata": {},
   "source": [
    "Train the network using Xavier Initialization function"
   ]
  },
  {
   "cell_type": "code",
   "execution_count": null,
   "metadata": {},
   "outputs": [],
   "source": [
    "# Train the model with Xavier initialization\n",
    "\n",
    "model_Xavier = Net_Xavier(layers)\n",
    "optimizer = torch.optim.SGD(model_Xavier.parameters(), lr=learning_rate)\n",
    "training_results_Xavier = train(model_Xavier, criterion, train_loader, validation_loader, optimizer, epochs=epochs)"
   ]
  },
  {
   "cell_type": "markdown",
   "metadata": {},
   "source": [
    "Train the network using Uniform Initialization"
   ]
  },
  {
   "cell_type": "code",
   "execution_count": null,
   "metadata": {},
   "outputs": [],
   "source": [
    "# Train the model with Uniform initialization\n",
    "\n",
    "model_Uniform = Net_Uniform(layers)\n",
    "optimizer = torch.optim.SGD(model_Uniform.parameters(), lr=learning_rate)\n",
    "training_results_Uniform = train(model_Uniform, criterion, train_loader, validation_loader, optimizer, epochs=epochs)"
   ]
  },
  {
   "cell_type": "markdown",
   "metadata": {},
   "source": [
    "<!--Empty Space for separating topics-->"
   ]
  },
  {
   "cell_type": "markdown",
   "metadata": {},
   "source": [
    "<h2 id=\"Result\">Analyse Results</h2> "
   ]
  },
  {
   "cell_type": "markdown",
   "metadata": {},
   "source": [
    "Compare the training loss for each initialization"
   ]
  },
  {
   "cell_type": "code",
   "execution_count": null,
   "metadata": {},
   "outputs": [],
   "source": [
    "# Plot the loss\n",
    "\n",
    "plt.plot(training_results_Xavier['training_loss'], label='Xavier')\n",
    "plt.plot(training_results['training_loss'], label='Default')\n",
    "plt.plot(training_results_Uniform['training_loss'], label='Uniform')\n",
    "plt.ylabel('loss')\n",
    "plt.xlabel('iteration ')  \n",
    "plt.title('training loss iterations')\n",
    "plt.legend()"
   ]
  },
  {
   "cell_type": "markdown",
   "metadata": {},
   "source": [
    "compare the validation loss for each model  "
   ]
  },
  {
   "cell_type": "code",
   "execution_count": null,
   "metadata": {},
   "outputs": [],
   "source": [
    "# Plot the accuracy\n",
    "\n",
    "plt.plot(training_results_Xavier['validation_accuracy'], label='Xavier')\n",
    "plt.plot(training_results['validation_accuracy'], label='Default')\n",
    "plt.plot(training_results_Uniform['validation_accuracy'], label='Uniform') \n",
    "plt.ylabel('validation accuracy')\n",
    "plt.xlabel('epochs')   \n",
    "plt.legend()"
   ]
  },
  {
   "cell_type": "markdown",
   "metadata": {},
   "source": [
    "<!--Empty Space for separating topics-->"
   ]
  },
  {
   "cell_type": "markdown",
   "metadata": {},
   "source": [
    "<a href=\"http://cocl.us/pytorch_link_bottom\">\n",
    "    <img src=\"https://s3-api.us-geo.objectstorage.softlayer.net/cf-courses-data/CognitiveClass/DL0110EN/notebook_images%20/notebook_bottom%20.png\" width=\"750\" alt=\"PyTorch Bottom\" />\n",
    "</a>"
   ]
  },
  {
   "cell_type": "markdown",
   "metadata": {},
   "source": [
    "<h2>About the Authors:</h2> \n",
    "\n",
    "<a href=\"https://www.linkedin.com/in/joseph-s-50398b136/\">Joseph Santarcangelo</a> has a PhD in Electrical Engineering, his research focused on using machine learning, signal processing, and computer vision to determine how videos impact human cognition. Joseph has been working for IBM since he completed his PhD. "
   ]
  },
  {
   "cell_type": "markdown",
   "metadata": {},
   "source": [
    "Other contributors: <a href=\"https://www.linkedin.com/in/michelleccarey/\">Michelle Carey</a>, <a href=\"www.linkedin.com/in/jiahui-mavis-zhou-a4537814a\">Mavis Zhou</a>"
   ]
  },
  {
   "cell_type": "markdown",
   "metadata": {},
   "source": [
    "<hr>"
   ]
  },
  {
   "cell_type": "markdown",
   "metadata": {},
   "source": [
    "Copyright &copy; 2018 <a href=\"cognitiveclass.ai?utm_source=bducopyrightlink&utm_medium=dswb&utm_campaign=bdu\">cognitiveclass.ai</a>. This notebook and its source code are released under the terms of the <a href=\"https://bigdatauniversity.com/mit-license/\">MIT License</a>."
   ]
  }
 ],
 "metadata": {
  "kernelspec": {
   "display_name": "Python 3",
   "language": "python",
   "name": "python3"
  },
  "language_info": {
   "codemirror_mode": {
    "name": "ipython",
    "version": 3
   },
   "file_extension": ".py",
   "mimetype": "text/x-python",
   "name": "python",
   "nbconvert_exporter": "python",
   "pygments_lexer": "ipython3",
   "version": "3.6.8"
  }
 },
 "nbformat": 4,
 "nbformat_minor": 2
}